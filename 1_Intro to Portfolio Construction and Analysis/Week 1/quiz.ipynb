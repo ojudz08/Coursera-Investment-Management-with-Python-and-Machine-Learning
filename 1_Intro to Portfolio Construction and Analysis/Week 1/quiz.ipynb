{
 "cells": [
  {
   "cell_type": "code",
   "execution_count": 1,
   "id": "13126c2c",
   "metadata": {},
   "outputs": [],
   "source": [
    "import numpy as np\n",
    "import pandas as pd\n",
    "import scipy.stats"
   ]
  },
  {
   "cell_type": "code",
   "execution_count": 2,
   "id": "b74d9882",
   "metadata": {},
   "outputs": [
    {
     "data": {
      "text/html": [
       "<div>\n",
       "<style scoped>\n",
       "    .dataframe tbody tr th:only-of-type {\n",
       "        vertical-align: middle;\n",
       "    }\n",
       "\n",
       "    .dataframe tbody tr th {\n",
       "        vertical-align: top;\n",
       "    }\n",
       "\n",
       "    .dataframe thead th {\n",
       "        text-align: right;\n",
       "    }\n",
       "</style>\n",
       "<table border=\"1\" class=\"dataframe\">\n",
       "  <thead>\n",
       "    <tr style=\"text-align: right;\">\n",
       "      <th></th>\n",
       "      <th>Lo 20</th>\n",
       "      <th>Hi 20</th>\n",
       "    </tr>\n",
       "  </thead>\n",
       "  <tbody>\n",
       "    <tr>\n",
       "      <th>1926-07</th>\n",
       "      <td>-0.0057</td>\n",
       "      <td>0.0333</td>\n",
       "    </tr>\n",
       "    <tr>\n",
       "      <th>1926-08</th>\n",
       "      <td>0.0384</td>\n",
       "      <td>0.0233</td>\n",
       "    </tr>\n",
       "    <tr>\n",
       "      <th>1926-09</th>\n",
       "      <td>-0.0048</td>\n",
       "      <td>-0.0009</td>\n",
       "    </tr>\n",
       "    <tr>\n",
       "      <th>1926-10</th>\n",
       "      <td>-0.0329</td>\n",
       "      <td>-0.0295</td>\n",
       "    </tr>\n",
       "    <tr>\n",
       "      <th>1926-11</th>\n",
       "      <td>-0.0055</td>\n",
       "      <td>0.0316</td>\n",
       "    </tr>\n",
       "  </tbody>\n",
       "</table>\n",
       "</div>"
      ],
      "text/plain": [
       "          Lo 20   Hi 20\n",
       "1926-07 -0.0057  0.0333\n",
       "1926-08  0.0384  0.0233\n",
       "1926-09 -0.0048 -0.0009\n",
       "1926-10 -0.0329 -0.0295\n",
       "1926-11 -0.0055  0.0316"
      ]
     },
     "execution_count": 2,
     "metadata": {},
     "output_type": "execute_result"
    }
   ],
   "source": [
    "me_m = pd.read_csv('data\\Portfolios_Formed_on_ME_monthly_EW.csv',\n",
    "                    header=0, index_col=0, na_values=-99.99)\n",
    "rets = me_m[['Lo 20', 'Hi 20']]\n",
    "rets = rets/100\n",
    "rets.index = pd.to_datetime(rets.index, format=\"%Y%m\").to_period('M')\n",
    "\n",
    "rets.head()"
   ]
  },
  {
   "cell_type": "code",
   "execution_count": 3,
   "id": "a5119cef",
   "metadata": {},
   "outputs": [
    {
     "data": {
      "text/plain": [
       "Lo 20    15.197701\n",
       "Hi 20     9.849021\n",
       "dtype: float64"
      ]
     },
     "execution_count": 3,
     "metadata": {},
     "output_type": "execute_result"
    }
   ],
   "source": [
    "# Calculating annualized return\n",
    "n = rets.shape[0]\n",
    "ann_rets = np.power((1 + rets).prod(), 12/n) - 1\n",
    "ann_rets * 100"
   ]
  },
  {
   "cell_type": "code",
   "execution_count": 4,
   "id": "5b374d96",
   "metadata": {},
   "outputs": [
    {
     "data": {
      "text/plain": [
       "Lo 20    33.670128\n",
       "Hi 20    19.511604\n",
       "dtype: float64"
      ]
     },
     "execution_count": 4,
     "metadata": {},
     "output_type": "execute_result"
    }
   ],
   "source": [
    "# Calculating annualized volatility\n",
    "ann_vol = rets.std() * np.sqrt(12)\n",
    "ann_vol * 100"
   ]
  },
  {
   "cell_type": "code",
   "execution_count": 5,
   "id": "b4041ec1",
   "metadata": {},
   "outputs": [
    {
     "data": {
      "text/plain": [
       "Lo 20    11.442634\n",
       "Hi 20     6.286512\n",
       "dtype: float64"
      ]
     },
     "execution_count": 5,
     "metadata": {},
     "output_type": "execute_result"
    }
   ],
   "source": [
    "# Calculating annualized return between 1999 to 2015\n",
    "n = rets['1999':'2015'].shape[0]\n",
    "ann_rets = np.power((1 + rets['1999':'2015']).prod(), 12/n) - 1\n",
    "ann_rets * 100"
   ]
  },
  {
   "cell_type": "code",
   "execution_count": 6,
   "id": "a79db722",
   "metadata": {},
   "outputs": [
    {
     "data": {
      "text/plain": [
       "Lo 20    22.889447\n",
       "Hi 20    17.271332\n",
       "dtype: float64"
      ]
     },
     "execution_count": 6,
     "metadata": {},
     "output_type": "execute_result"
    }
   ],
   "source": [
    "# Calculating annualized volatility between 1999 to 2015\n",
    "ann_vol = rets['1999':'2015'].std() * np.sqrt(12)\n",
    "ann_vol * 100"
   ]
  },
  {
   "cell_type": "code",
   "execution_count": 7,
   "id": "943b28f3",
   "metadata": {},
   "outputs": [
    {
     "name": "stdout",
     "output_type": "stream",
     "text": [
      "Max DD of Lo 20:  62.48092431236988\n",
      "2009-02\n"
     ]
    }
   ],
   "source": [
    "# Calculating maximum drawdown of Lo 20\n",
    "wealth_index = 1000*(1 + rets['1999':'2015']['Lo 20']).cumprod()\n",
    "previous_peaks = wealth_index.cummax()\n",
    "drawdown = (wealth_index - previous_peaks)/previous_peaks\n",
    "\n",
    "print('Max DD of Lo 20: ', -drawdown.min()*100)\n",
    "print(drawdown.idxmin())"
   ]
  },
  {
   "cell_type": "code",
   "execution_count": 8,
   "id": "5fac0d3f",
   "metadata": {},
   "outputs": [
    {
     "name": "stdout",
     "output_type": "stream",
     "text": [
      "Max DD of Hi 20:  55.27349978713653\n",
      "2009-02\n"
     ]
    }
   ],
   "source": [
    "# Calculating maximum drawdown of Hi 20\n",
    "wealth_index = 1000*(1 + rets['1999':'2015']['Hi 20']).cumprod()\n",
    "previous_peaks = wealth_index.cummax()\n",
    "drawdown = (wealth_index - previous_peaks)/previous_peaks\n",
    "\n",
    "print('Max DD of Hi 20: ', -drawdown.min()*100)\n",
    "print(drawdown.idxmin())"
   ]
  },
  {
   "cell_type": "code",
   "execution_count": 9,
   "id": "590f04ed",
   "metadata": {},
   "outputs": [
    {
     "data": {
      "text/html": [
       "<div>\n",
       "<style scoped>\n",
       "    .dataframe tbody tr th:only-of-type {\n",
       "        vertical-align: middle;\n",
       "    }\n",
       "\n",
       "    .dataframe tbody tr th {\n",
       "        vertical-align: top;\n",
       "    }\n",
       "\n",
       "    .dataframe thead th {\n",
       "        text-align: right;\n",
       "    }\n",
       "</style>\n",
       "<table border=\"1\" class=\"dataframe\">\n",
       "  <thead>\n",
       "    <tr style=\"text-align: right;\">\n",
       "      <th></th>\n",
       "      <th>Convertible Arbitrage</th>\n",
       "      <th>CTA Global</th>\n",
       "      <th>Distressed Securities</th>\n",
       "      <th>Emerging Markets</th>\n",
       "      <th>Equity Market Neutral</th>\n",
       "      <th>Event Driven</th>\n",
       "      <th>Fixed Income Arbitrage</th>\n",
       "      <th>Global Macro</th>\n",
       "      <th>Long/Short Equity</th>\n",
       "      <th>Merger Arbitrage</th>\n",
       "      <th>Relative Value</th>\n",
       "      <th>Short Selling</th>\n",
       "      <th>Funds Of Funds</th>\n",
       "    </tr>\n",
       "    <tr>\n",
       "      <th>date</th>\n",
       "      <th></th>\n",
       "      <th></th>\n",
       "      <th></th>\n",
       "      <th></th>\n",
       "      <th></th>\n",
       "      <th></th>\n",
       "      <th></th>\n",
       "      <th></th>\n",
       "      <th></th>\n",
       "      <th></th>\n",
       "      <th></th>\n",
       "      <th></th>\n",
       "      <th></th>\n",
       "    </tr>\n",
       "  </thead>\n",
       "  <tbody>\n",
       "    <tr>\n",
       "      <th>1997-01</th>\n",
       "      <td>0.0119</td>\n",
       "      <td>0.0393</td>\n",
       "      <td>0.0178</td>\n",
       "      <td>0.0791</td>\n",
       "      <td>0.0189</td>\n",
       "      <td>0.0213</td>\n",
       "      <td>0.0191</td>\n",
       "      <td>0.0573</td>\n",
       "      <td>0.0281</td>\n",
       "      <td>0.0150</td>\n",
       "      <td>0.0180</td>\n",
       "      <td>-0.0166</td>\n",
       "      <td>0.0317</td>\n",
       "    </tr>\n",
       "    <tr>\n",
       "      <th>1997-02</th>\n",
       "      <td>0.0123</td>\n",
       "      <td>0.0298</td>\n",
       "      <td>0.0122</td>\n",
       "      <td>0.0525</td>\n",
       "      <td>0.0101</td>\n",
       "      <td>0.0084</td>\n",
       "      <td>0.0122</td>\n",
       "      <td>0.0175</td>\n",
       "      <td>-0.0006</td>\n",
       "      <td>0.0034</td>\n",
       "      <td>0.0118</td>\n",
       "      <td>0.0426</td>\n",
       "      <td>0.0106</td>\n",
       "    </tr>\n",
       "    <tr>\n",
       "      <th>1997-03</th>\n",
       "      <td>0.0078</td>\n",
       "      <td>-0.0021</td>\n",
       "      <td>-0.0012</td>\n",
       "      <td>-0.0120</td>\n",
       "      <td>0.0016</td>\n",
       "      <td>-0.0023</td>\n",
       "      <td>0.0109</td>\n",
       "      <td>-0.0119</td>\n",
       "      <td>-0.0084</td>\n",
       "      <td>0.0060</td>\n",
       "      <td>0.0010</td>\n",
       "      <td>0.0778</td>\n",
       "      <td>-0.0077</td>\n",
       "    </tr>\n",
       "    <tr>\n",
       "      <th>1997-04</th>\n",
       "      <td>0.0086</td>\n",
       "      <td>-0.0170</td>\n",
       "      <td>0.0030</td>\n",
       "      <td>0.0119</td>\n",
       "      <td>0.0119</td>\n",
       "      <td>-0.0005</td>\n",
       "      <td>0.0130</td>\n",
       "      <td>0.0172</td>\n",
       "      <td>0.0084</td>\n",
       "      <td>-0.0001</td>\n",
       "      <td>0.0122</td>\n",
       "      <td>-0.0129</td>\n",
       "      <td>0.0009</td>\n",
       "    </tr>\n",
       "    <tr>\n",
       "      <th>1997-05</th>\n",
       "      <td>0.0156</td>\n",
       "      <td>-0.0015</td>\n",
       "      <td>0.0233</td>\n",
       "      <td>0.0315</td>\n",
       "      <td>0.0189</td>\n",
       "      <td>0.0346</td>\n",
       "      <td>0.0118</td>\n",
       "      <td>0.0108</td>\n",
       "      <td>0.0394</td>\n",
       "      <td>0.0197</td>\n",
       "      <td>0.0173</td>\n",
       "      <td>-0.0737</td>\n",
       "      <td>0.0275</td>\n",
       "    </tr>\n",
       "  </tbody>\n",
       "</table>\n",
       "</div>"
      ],
      "text/plain": [
       "         Convertible Arbitrage  CTA Global  Distressed Securities  \\\n",
       "date                                                                \n",
       "1997-01                 0.0119      0.0393                 0.0178   \n",
       "1997-02                 0.0123      0.0298                 0.0122   \n",
       "1997-03                 0.0078     -0.0021                -0.0012   \n",
       "1997-04                 0.0086     -0.0170                 0.0030   \n",
       "1997-05                 0.0156     -0.0015                 0.0233   \n",
       "\n",
       "         Emerging Markets  Equity Market Neutral  Event Driven  \\\n",
       "date                                                             \n",
       "1997-01            0.0791                 0.0189        0.0213   \n",
       "1997-02            0.0525                 0.0101        0.0084   \n",
       "1997-03           -0.0120                 0.0016       -0.0023   \n",
       "1997-04            0.0119                 0.0119       -0.0005   \n",
       "1997-05            0.0315                 0.0189        0.0346   \n",
       "\n",
       "         Fixed Income Arbitrage  Global Macro  Long/Short Equity  \\\n",
       "date                                                               \n",
       "1997-01                  0.0191        0.0573             0.0281   \n",
       "1997-02                  0.0122        0.0175            -0.0006   \n",
       "1997-03                  0.0109       -0.0119            -0.0084   \n",
       "1997-04                  0.0130        0.0172             0.0084   \n",
       "1997-05                  0.0118        0.0108             0.0394   \n",
       "\n",
       "         Merger Arbitrage  Relative Value  Short Selling  Funds Of Funds  \n",
       "date                                                                      \n",
       "1997-01            0.0150          0.0180        -0.0166          0.0317  \n",
       "1997-02            0.0034          0.0118         0.0426          0.0106  \n",
       "1997-03            0.0060          0.0010         0.0778         -0.0077  \n",
       "1997-04           -0.0001          0.0122        -0.0129          0.0009  \n",
       "1997-05            0.0197          0.0173        -0.0737          0.0275  "
      ]
     },
     "execution_count": 9,
     "metadata": {},
     "output_type": "execute_result"
    }
   ],
   "source": [
    "hfi = pd.read_csv('data\\edhec-hedgefundindices.csv',\n",
    "                  header=0, index_col=0, parse_dates=True, infer_datetime_format=True)\n",
    "hfi = hfi/100\n",
    "hfi.index = hfi.index.to_period('M')\n",
    "\n",
    "hfi.head()"
   ]
  },
  {
   "cell_type": "code",
   "execution_count": 10,
   "id": "9aafebb5",
   "metadata": {},
   "outputs": [
    {
     "data": {
      "text/plain": [
       "Fixed Income Arbitrage    0.003321\n",
       "Merger Arbitrage          0.003611\n",
       "Global Macro              0.005075\n",
       "Equity Market Neutral     0.005186\n",
       "Relative Value            0.005711\n",
       "Convertible Arbitrage     0.006681\n",
       "Funds Of Funds            0.007948\n",
       "Distressed Securities     0.009498\n",
       "Event Driven              0.010135\n",
       "CTA Global                0.010996\n",
       "Long/Short Equity         0.012139\n",
       "Emerging Markets          0.015276\n",
       "Short Selling             0.021240\n",
       "dtype: float64"
      ]
     },
     "execution_count": 10,
     "metadata": {},
     "output_type": "execute_result"
    }
   ],
   "source": [
    "hfi_A = hfi['2009':'2018']\n",
    "\n",
    "# Checkinng the highest and lowest semideviation\n",
    "hfi_A[hfi_A<0].std(ddof=0).sort_values()"
   ]
  },
  {
   "cell_type": "code",
   "execution_count": 11,
   "id": "23066468",
   "metadata": {},
   "outputs": [
    {
     "data": {
      "text/html": [
       "<div>\n",
       "<style scoped>\n",
       "    .dataframe tbody tr th:only-of-type {\n",
       "        vertical-align: middle;\n",
       "    }\n",
       "\n",
       "    .dataframe tbody tr th {\n",
       "        vertical-align: top;\n",
       "    }\n",
       "\n",
       "    .dataframe thead th {\n",
       "        text-align: right;\n",
       "    }\n",
       "</style>\n",
       "<table border=\"1\" class=\"dataframe\">\n",
       "  <thead>\n",
       "    <tr style=\"text-align: right;\">\n",
       "      <th></th>\n",
       "      <th>Hedge Fund Indices</th>\n",
       "      <th>Skewness</th>\n",
       "    </tr>\n",
       "  </thead>\n",
       "  <tbody>\n",
       "    <tr>\n",
       "      <th>0</th>\n",
       "      <td>Convertible Arbitrage</td>\n",
       "      <td>1.305911</td>\n",
       "    </tr>\n",
       "    <tr>\n",
       "      <th>1</th>\n",
       "      <td>CTA Global</td>\n",
       "      <td>0.052062</td>\n",
       "    </tr>\n",
       "    <tr>\n",
       "      <th>2</th>\n",
       "      <td>Distressed Securities</td>\n",
       "      <td>-0.254944</td>\n",
       "    </tr>\n",
       "    <tr>\n",
       "      <th>3</th>\n",
       "      <td>Emerging Markets</td>\n",
       "      <td>0.033123</td>\n",
       "    </tr>\n",
       "    <tr>\n",
       "      <th>4</th>\n",
       "      <td>Equity Market Neutral</td>\n",
       "      <td>-0.896327</td>\n",
       "    </tr>\n",
       "    <tr>\n",
       "      <th>5</th>\n",
       "      <td>Event Driven</td>\n",
       "      <td>-0.488821</td>\n",
       "    </tr>\n",
       "    <tr>\n",
       "      <th>6</th>\n",
       "      <td>Fixed Income Arbitrage</td>\n",
       "      <td>1.121453</td>\n",
       "    </tr>\n",
       "    <tr>\n",
       "      <th>7</th>\n",
       "      <td>Global Macro</td>\n",
       "      <td>0.348184</td>\n",
       "    </tr>\n",
       "    <tr>\n",
       "      <th>8</th>\n",
       "      <td>Long/Short Equity</td>\n",
       "      <td>-0.463703</td>\n",
       "    </tr>\n",
       "    <tr>\n",
       "      <th>9</th>\n",
       "      <td>Merger Arbitrage</td>\n",
       "      <td>-0.551065</td>\n",
       "    </tr>\n",
       "    <tr>\n",
       "      <th>10</th>\n",
       "      <td>Relative Value</td>\n",
       "      <td>0.159953</td>\n",
       "    </tr>\n",
       "    <tr>\n",
       "      <th>11</th>\n",
       "      <td>Short Selling</td>\n",
       "      <td>0.456518</td>\n",
       "    </tr>\n",
       "    <tr>\n",
       "      <th>12</th>\n",
       "      <td>Funds Of Funds</td>\n",
       "      <td>-0.646908</td>\n",
       "    </tr>\n",
       "  </tbody>\n",
       "</table>\n",
       "</div>"
      ],
      "text/plain": [
       "        Hedge Fund Indices  Skewness\n",
       "0    Convertible Arbitrage  1.305911\n",
       "1               CTA Global  0.052062\n",
       "2    Distressed Securities -0.254944\n",
       "3         Emerging Markets  0.033123\n",
       "4    Equity Market Neutral -0.896327\n",
       "5             Event Driven -0.488821\n",
       "6   Fixed Income Arbitrage  1.121453\n",
       "7             Global Macro  0.348184\n",
       "8        Long/Short Equity -0.463703\n",
       "9         Merger Arbitrage -0.551065\n",
       "10          Relative Value  0.159953\n",
       "11           Short Selling  0.456518\n",
       "12          Funds Of Funds -0.646908"
      ]
     },
     "execution_count": 11,
     "metadata": {},
     "output_type": "execute_result"
    }
   ],
   "source": [
    "skw = pd.DataFrame(scipy.stats.skew(hfi_A))\n",
    "col = pd.DataFrame(hfi_A.columns.values)\n",
    "\n",
    "skewness = pd.concat([col, skw], axis=1)\n",
    "skewness.columns = ['Hedge Fund Indices', 'Skewness']\n",
    "\n",
    "skewness"
   ]
  },
  {
   "cell_type": "code",
   "execution_count": 12,
   "id": "bba70c9e",
   "metadata": {},
   "outputs": [
    {
     "data": {
      "text/plain": [
       "4    -0.896327\n",
       "12   -0.646908\n",
       "9    -0.551065\n",
       "5    -0.488821\n",
       "8    -0.463703\n",
       "2    -0.254944\n",
       "3     0.033123\n",
       "1     0.052062\n",
       "10    0.159953\n",
       "7     0.348184\n",
       "11    0.456518\n",
       "6     1.121453\n",
       "0     1.305911\n",
       "Name: Skewness, dtype: float64"
      ]
     },
     "execution_count": 12,
     "metadata": {},
     "output_type": "execute_result"
    }
   ],
   "source": [
    "# Getting the hedge fund indices with the most negatively skewed\n",
    "\n",
    "skewness['Skewness'].sort_values()"
   ]
  },
  {
   "cell_type": "code",
   "execution_count": 13,
   "id": "cd5eaa4c",
   "metadata": {},
   "outputs": [
    {
     "data": {
      "text/html": [
       "<div>\n",
       "<style scoped>\n",
       "    .dataframe tbody tr th:only-of-type {\n",
       "        vertical-align: middle;\n",
       "    }\n",
       "\n",
       "    .dataframe tbody tr th {\n",
       "        vertical-align: top;\n",
       "    }\n",
       "\n",
       "    .dataframe thead th {\n",
       "        text-align: right;\n",
       "    }\n",
       "</style>\n",
       "<table border=\"1\" class=\"dataframe\">\n",
       "  <thead>\n",
       "    <tr style=\"text-align: right;\">\n",
       "      <th></th>\n",
       "      <th>Hedge Fund Indices</th>\n",
       "      <th>Kurtosis</th>\n",
       "    </tr>\n",
       "  </thead>\n",
       "  <tbody>\n",
       "    <tr>\n",
       "      <th>0</th>\n",
       "      <td>Convertible Arbitrage</td>\n",
       "      <td>23.001449</td>\n",
       "    </tr>\n",
       "    <tr>\n",
       "      <th>1</th>\n",
       "      <td>CTA Global</td>\n",
       "      <td>2.845022</td>\n",
       "    </tr>\n",
       "    <tr>\n",
       "      <th>2</th>\n",
       "      <td>Distressed Securities</td>\n",
       "      <td>6.231720</td>\n",
       "    </tr>\n",
       "    <tr>\n",
       "      <th>3</th>\n",
       "      <td>Emerging Markets</td>\n",
       "      <td>5.941289</td>\n",
       "    </tr>\n",
       "    <tr>\n",
       "      <th>4</th>\n",
       "      <td>Equity Market Neutral</td>\n",
       "      <td>20.329621</td>\n",
       "    </tr>\n",
       "    <tr>\n",
       "      <th>5</th>\n",
       "      <td>Event Driven</td>\n",
       "      <td>5.543444</td>\n",
       "    </tr>\n",
       "    <tr>\n",
       "      <th>6</th>\n",
       "      <td>Fixed Income Arbitrage</td>\n",
       "      <td>33.378729</td>\n",
       "    </tr>\n",
       "    <tr>\n",
       "      <th>7</th>\n",
       "      <td>Global Macro</td>\n",
       "      <td>3.653278</td>\n",
       "    </tr>\n",
       "    <tr>\n",
       "      <th>8</th>\n",
       "      <td>Long/Short Equity</td>\n",
       "      <td>4.472589</td>\n",
       "    </tr>\n",
       "    <tr>\n",
       "      <th>9</th>\n",
       "      <td>Merger Arbitrage</td>\n",
       "      <td>4.520785</td>\n",
       "    </tr>\n",
       "    <tr>\n",
       "      <th>10</th>\n",
       "      <td>Relative Value</td>\n",
       "      <td>12.731096</td>\n",
       "    </tr>\n",
       "    <tr>\n",
       "      <th>11</th>\n",
       "      <td>Short Selling</td>\n",
       "      <td>4.352758</td>\n",
       "    </tr>\n",
       "    <tr>\n",
       "      <th>12</th>\n",
       "      <td>Funds Of Funds</td>\n",
       "      <td>7.584725</td>\n",
       "    </tr>\n",
       "  </tbody>\n",
       "</table>\n",
       "</div>"
      ],
      "text/plain": [
       "        Hedge Fund Indices   Kurtosis\n",
       "0    Convertible Arbitrage  23.001449\n",
       "1               CTA Global   2.845022\n",
       "2    Distressed Securities   6.231720\n",
       "3         Emerging Markets   5.941289\n",
       "4    Equity Market Neutral  20.329621\n",
       "5             Event Driven   5.543444\n",
       "6   Fixed Income Arbitrage  33.378729\n",
       "7             Global Macro   3.653278\n",
       "8        Long/Short Equity   4.472589\n",
       "9         Merger Arbitrage   4.520785\n",
       "10          Relative Value  12.731096\n",
       "11           Short Selling   4.352758\n",
       "12          Funds Of Funds   7.584725"
      ]
     },
     "execution_count": 13,
     "metadata": {},
     "output_type": "execute_result"
    }
   ],
   "source": [
    "hfi_B = hfi['2000':]\n",
    "\n",
    "krts = pd.DataFrame(scipy.stats.kurtosis(hfi_B) + 3)\n",
    "col = pd.DataFrame(hfi_B.columns.values)\n",
    "\n",
    "kurtosis = pd.concat([col, krts], axis=1)\n",
    "kurtosis.columns = ['Hedge Fund Indices', 'Kurtosis']\n",
    "\n",
    "kurtosis"
   ]
  },
  {
   "cell_type": "code",
   "execution_count": 14,
   "id": "4b5a12b2",
   "metadata": {},
   "outputs": [
    {
     "data": {
      "text/plain": [
       "1      2.845022\n",
       "7      3.653278\n",
       "11     4.352758\n",
       "8      4.472589\n",
       "9      4.520785\n",
       "5      5.543444\n",
       "3      5.941289\n",
       "2      6.231720\n",
       "12     7.584725\n",
       "10    12.731096\n",
       "4     20.329621\n",
       "0     23.001449\n",
       "6     33.378729\n",
       "Name: Kurtosis, dtype: float64"
      ]
     },
     "execution_count": 14,
     "metadata": {},
     "output_type": "execute_result"
    }
   ],
   "source": [
    "# Getting the hedge fund index with highest kurtosis\n",
    "kurtosis['Kurtosis'].sort_values()"
   ]
  }
 ],
 "metadata": {
  "kernelspec": {
   "display_name": "Python 3 (ipykernel)",
   "language": "python",
   "name": "python3"
  },
  "language_info": {
   "codemirror_mode": {
    "name": "ipython",
    "version": 3
   },
   "file_extension": ".py",
   "mimetype": "text/x-python",
   "name": "python",
   "nbconvert_exporter": "python",
   "pygments_lexer": "ipython3",
   "version": "3.9.12"
  }
 },
 "nbformat": 4,
 "nbformat_minor": 5
}
