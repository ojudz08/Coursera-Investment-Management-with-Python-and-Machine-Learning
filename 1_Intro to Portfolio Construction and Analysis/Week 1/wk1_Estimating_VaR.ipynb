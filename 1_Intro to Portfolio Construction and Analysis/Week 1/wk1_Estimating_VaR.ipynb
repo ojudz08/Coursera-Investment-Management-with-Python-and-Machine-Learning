{
 "cells": [
  {
   "cell_type": "code",
   "execution_count": 1,
   "id": "783eb97e",
   "metadata": {},
   "outputs": [],
   "source": [
    "import numpy as np\n",
    "import pandas as pd\n",
    "import matplotlib.pyplot as plt\n",
    "from scipy.stats import norm"
   ]
  },
  {
   "cell_type": "markdown",
   "id": "afdf4357",
   "metadata": {},
   "source": [
    "## Methods for Computing VaR\n",
    "\n",
    "1. Historical (Non-parametric)\n",
    "2. Variance-Covariance (Parametric Gaussian)\n",
    "3. Parametric Non Gaussian\n",
    "4. Cornish - Fisher (Semi parametric)\n",
    "\n",
    "\n",
    "### Historical (Non-parametric)\n",
    "\n",
    " - Calculation of VaR based on the distribution of historical changes in the value of the current portfolio under market prices over the specified historical observation window\n",
    " - Pros: No assumption about asset return distributions\n",
    " - Cons: Since there's no assumption, you're solely relying on historical data. Estimate might be sensitive to the sample period. \n",
    "\n",
    "\n",
    "### Parametric Gaussian\n",
    "\n",
    " - Calculation of VaR based on portfolio volatility (i.e on volatilities and correlations of components). You have specific assumption about return distribution and focus on the estimate of the parameters of that return distribution. \n",
    " - Considers Z-alpha which is the alpha quantile of the standard normal distribution\n",
    " \n",
    "$$\\int ^{Z_{\\alpha}}_{-\\infty}\\frac{1}{\\sigma\\sqrt{2\\pi}}exp\\left(\\frac{-x^2}{2\\sigma^2}\\right)dx = \\alpha$$\n",
    "\n",
    "$$Pr\\left(\\frac{R_p-\\mu_p}{\\sigma_p}\\right)\\leq{z_\\alpha}=\\alpha \\Leftrightarrow Pr\\left(R\\leq\\mu_p + z_\\alpha \\sigma_p\\right)=\\alpha$$\n",
    "\n",
    "$$VaR_\\alpha=-\\left(\\mu + z_\\alpha\\sigma \\right)$$\n",
    "\n",
    " - Example: Consider a portfolio with a + 0.5% monthly expected return and 4% monthly volatility. What is the 95% monthly Gaussian VaR for the portfolio?\n",
    "\n",
    "$$VaR_\\alpha=-\\left(\\mu + z_\\alpha\\sigma \\right)$$\n",
    "\n",
    "$$VaR_\\alpha=-\\left(0.5\\% -1.65 x 4\\% \\right) = -6.1\\%$$\n",
    "\n",
    " - Cons: There's a specification risk - running a risk of specifying a wrong model\n",
    " - You're taking on a massive amount of more risk simply because you're assuming a Gaussian distribution (which is not a good assumption for asset return distribution)\n",
    " \n",
    " \n",
    "### Parametric Non Gaussian\n",
    "\n",
    " - Mitigates the problem of estimation riks at the cost of the model risk\n",
    " - Can be parametric but non-gaussian\n",
    " - Define:\n",
    " \n",
    "$$\\bar{F}(x) = P(X>x) = 1-F(x)$$\n",
    "\n",
    " - Pareto:\n",
    " \n",
    "$$\\bar{F}_\\alpha(x) = x^{-\\alpha}$$\n",
    "\n",
    " - Student with alpha > 0 degrees of freedom\n",
    " \n",
    "$$\\bar{F}_\\alpha \\backsim \\alpha^{(\\alpha - 1)/2}x^{-\\alpha}$$\n",
    "\n",
    " - Log Gamma\n",
    "\n",
    "$$\\bar{F}_{\\alpha,\\beta}(x) \\backsim x^{-\\alpha}(\\text{log x})^{\\beta - 1}$$\n",
    "\n",
    " - Frechet\n",
    "\n",
    "$$\\bar{F}_{\\alpha}(x) = 1 - e^{-x^{-\\alpha}}$$\n",
    "\n",
    "\n",
    "### Cornish-Fisher VaR\n",
    "\n",
    " - An alternative to parametric exists semi-parametric approach\n",
    " - Does not force to assume any particular distribution\n",
    " - Allows to relate the alpha quantile of non-Gaussian distribution to the alpha quantile of the Gaussian distribution\n",
    " - Z alpha plus correction factor which is skewness and excess kurtosis of the asset return distribution\n",
    "\n",
    "$$\\tilde{z}_{\\alpha} = z_\\alpha + \\frac{1}{6}\\left(z^{2}_{\\alpha}-1\\right)S + \\frac{1}{24}\\left(z^{3}_{\\alpha}-3z_\\alpha\\right) \\left(K - 3\\right) - \\frac{1}{36}\\left(2z^{3}_{\\alpha}-5z_\\alpha\\right)S^2$$\n",
    "\n",
    " - But in cases where skewness is negative and kurtosis is higher than 3, the correction factor will give a VaR estimate that will be different and is typically higher than the Gaussian estimate (will tell that there's a higher of chance of getting a bad negative outcome)\n",
    " \n",
    "$$VaR_{mod}\\left(1-\\alpha\\right) = -\\left(\\mu + \\tilde{z}_{\\alpha}\\sigma\\right)$$\n",
    "\n",
    " - Example: Consider an asset with a skewness equal to -1.2 and kurtosis equal to 6. Keeping in mind that Z5%, the critical value for probability 95% is -1.65, indicate what would be the modified critical value for probability 95% using the Cornish Fisher expansion.\n",
    " - Answer: -1.90%"
   ]
  },
  {
   "cell_type": "markdown",
   "id": "4e75250e",
   "metadata": {},
   "source": [
    "### Lab Session: Downside Measures"
   ]
  },
  {
   "cell_type": "code",
   "execution_count": 2,
   "id": "995f748b",
   "metadata": {},
   "outputs": [],
   "source": [
    "import edhec_risk_kit as erk"
   ]
  },
  {
   "cell_type": "code",
   "execution_count": 3,
   "id": "1e95eafc",
   "metadata": {},
   "outputs": [],
   "source": [
    "hfi = erk.get_hfi_returns()"
   ]
  },
  {
   "cell_type": "markdown",
   "id": "7ba72434",
   "metadata": {},
   "source": [
    "### Semi deviation"
   ]
  },
  {
   "cell_type": "code",
   "execution_count": 4,
   "id": "485f03fc",
   "metadata": {},
   "outputs": [
    {
     "data": {
      "text/plain": [
       "Convertible Arbitrage     0.016536\n",
       "CTA Global                0.023290\n",
       "Distressed Securities     0.017009\n",
       "Emerging Markets          0.032476\n",
       "Equity Market Neutral     0.008115\n",
       "Event Driven              0.016712\n",
       "Fixed Income Arbitrage    0.011517\n",
       "Global Macro              0.014694\n",
       "Long/Short Equity         0.019897\n",
       "Merger Arbitrage          0.009600\n",
       "Relative Value            0.011462\n",
       "Short Selling             0.047655\n",
       "Funds Of Funds            0.015536\n",
       "dtype: float64"
      ]
     },
     "execution_count": 4,
     "metadata": {},
     "output_type": "execute_result"
    }
   ],
   "source": [
    "hfi.std(ddof=0)"
   ]
  },
  {
   "cell_type": "code",
   "execution_count": 5,
   "id": "b88dc561",
   "metadata": {},
   "outputs": [
    {
     "data": {
      "text/plain": [
       "Convertible Arbitrage     0.019540\n",
       "CTA Global                0.012443\n",
       "Distressed Securities     0.015185\n",
       "Emerging Markets          0.028039\n",
       "Equity Market Neutral     0.009566\n",
       "Event Driven              0.015429\n",
       "Fixed Income Arbitrage    0.017763\n",
       "Global Macro              0.006579\n",
       "Long/Short Equity         0.014051\n",
       "Merger Arbitrage          0.008875\n",
       "Relative Value            0.012244\n",
       "Short Selling             0.027283\n",
       "Funds Of Funds            0.012122\n",
       "dtype: float64"
      ]
     },
     "execution_count": 5,
     "metadata": {},
     "output_type": "execute_result"
    }
   ],
   "source": [
    "# Get return that is lower than average\n",
    "\n",
    "hfi[hfi < 0].std(ddof=0) # std of hfi < 0, stdev of negative returns"
   ]
  },
  {
   "cell_type": "code",
   "execution_count": 6,
   "id": "0bd81756",
   "metadata": {},
   "outputs": [
    {
     "data": {
      "text/plain": [
       "Convertible Arbitrage     0.019540\n",
       "CTA Global                0.012443\n",
       "Distressed Securities     0.015185\n",
       "Emerging Markets          0.028039\n",
       "Equity Market Neutral     0.009566\n",
       "Event Driven              0.015429\n",
       "Fixed Income Arbitrage    0.017763\n",
       "Global Macro              0.006579\n",
       "Long/Short Equity         0.014051\n",
       "Merger Arbitrage          0.008875\n",
       "Relative Value            0.012244\n",
       "Short Selling             0.027283\n",
       "Funds Of Funds            0.012122\n",
       "dtype: float64"
      ]
     },
     "execution_count": 6,
     "metadata": {},
     "output_type": "execute_result"
    }
   ],
   "source": [
    "erk.semideviation(hfi)"
   ]
  },
  {
   "cell_type": "markdown",
   "id": "b7009142",
   "metadata": {},
   "source": [
    "### VaR and CVaR\n",
    "\n",
    "1. Historic VaR\n",
    "2. Parametric VaR - Gaussian\n",
    "3. Modified Cornish-Fisher VaR"
   ]
  },
  {
   "cell_type": "markdown",
   "id": "fc8f8701",
   "metadata": {},
   "source": [
    "### Historic VaR"
   ]
  },
  {
   "cell_type": "code",
   "execution_count": 7,
   "id": "63ca1533",
   "metadata": {},
   "outputs": [
    {
     "data": {
      "text/html": [
       "<div>\n",
       "<style scoped>\n",
       "    .dataframe tbody tr th:only-of-type {\n",
       "        vertical-align: middle;\n",
       "    }\n",
       "\n",
       "    .dataframe tbody tr th {\n",
       "        vertical-align: top;\n",
       "    }\n",
       "\n",
       "    .dataframe thead th {\n",
       "        text-align: right;\n",
       "    }\n",
       "</style>\n",
       "<table border=\"1\" class=\"dataframe\">\n",
       "  <thead>\n",
       "    <tr style=\"text-align: right;\">\n",
       "      <th></th>\n",
       "      <th>Strategy</th>\n",
       "      <th>VaR at 5%</th>\n",
       "    </tr>\n",
       "  </thead>\n",
       "  <tbody>\n",
       "    <tr>\n",
       "      <th>0</th>\n",
       "      <td>Convertible Arbitrage</td>\n",
       "      <td>0.01576</td>\n",
       "    </tr>\n",
       "    <tr>\n",
       "      <th>1</th>\n",
       "      <td>CTA Global</td>\n",
       "      <td>0.03169</td>\n",
       "    </tr>\n",
       "    <tr>\n",
       "      <th>2</th>\n",
       "      <td>Distressed Securities</td>\n",
       "      <td>0.01966</td>\n",
       "    </tr>\n",
       "    <tr>\n",
       "      <th>3</th>\n",
       "      <td>Emerging Markets</td>\n",
       "      <td>0.04247</td>\n",
       "    </tr>\n",
       "    <tr>\n",
       "      <th>4</th>\n",
       "      <td>Equity Market Neutral</td>\n",
       "      <td>0.00814</td>\n",
       "    </tr>\n",
       "    <tr>\n",
       "      <th>5</th>\n",
       "      <td>Event Driven</td>\n",
       "      <td>0.02535</td>\n",
       "    </tr>\n",
       "    <tr>\n",
       "      <th>6</th>\n",
       "      <td>Fixed Income Arbitrage</td>\n",
       "      <td>0.00787</td>\n",
       "    </tr>\n",
       "    <tr>\n",
       "      <th>7</th>\n",
       "      <td>Global Macro</td>\n",
       "      <td>0.01499</td>\n",
       "    </tr>\n",
       "    <tr>\n",
       "      <th>8</th>\n",
       "      <td>Long/Short Equity</td>\n",
       "      <td>0.02598</td>\n",
       "    </tr>\n",
       "    <tr>\n",
       "      <th>9</th>\n",
       "      <td>Merger Arbitrage</td>\n",
       "      <td>0.01047</td>\n",
       "    </tr>\n",
       "    <tr>\n",
       "      <th>10</th>\n",
       "      <td>Relative Value</td>\n",
       "      <td>0.01174</td>\n",
       "    </tr>\n",
       "    <tr>\n",
       "      <th>11</th>\n",
       "      <td>Short Selling</td>\n",
       "      <td>0.06783</td>\n",
       "    </tr>\n",
       "    <tr>\n",
       "      <th>12</th>\n",
       "      <td>Funds Of Funds</td>\n",
       "      <td>0.02047</td>\n",
       "    </tr>\n",
       "  </tbody>\n",
       "</table>\n",
       "</div>"
      ],
      "text/plain": [
       "                  Strategy  VaR at 5%\n",
       "0    Convertible Arbitrage    0.01576\n",
       "1               CTA Global    0.03169\n",
       "2    Distressed Securities    0.01966\n",
       "3         Emerging Markets    0.04247\n",
       "4    Equity Market Neutral    0.00814\n",
       "5             Event Driven    0.02535\n",
       "6   Fixed Income Arbitrage    0.00787\n",
       "7             Global Macro    0.01499\n",
       "8        Long/Short Equity    0.02598\n",
       "9         Merger Arbitrage    0.01047\n",
       "10          Relative Value    0.01174\n",
       "11           Short Selling    0.06783\n",
       "12          Funds Of Funds    0.02047"
      ]
     },
     "execution_count": 7,
     "metadata": {},
     "output_type": "execute_result"
    }
   ],
   "source": [
    "# Example: Find 5% VaR of hedge fund indices. \n",
    "# Meaning what is value at risk at 5% level?\n",
    "\n",
    "val = pd.DataFrame(-np.percentile(hfi, 5, axis=0))\n",
    "col = pd.DataFrame(hfi.columns.values)\n",
    "\n",
    "output = pd.concat([col, val], axis=1)\n",
    "output.columns = ['Strategy', 'VaR at 5%']\n",
    "output"
   ]
  },
  {
   "cell_type": "code",
   "execution_count": 8,
   "id": "58d201ba",
   "metadata": {},
   "outputs": [
    {
     "data": {
      "text/plain": [
       "Convertible Arbitrage     0.01576\n",
       "CTA Global                0.03169\n",
       "Distressed Securities     0.01966\n",
       "Emerging Markets          0.04247\n",
       "Equity Market Neutral     0.00814\n",
       "Event Driven              0.02535\n",
       "Fixed Income Arbitrage    0.00787\n",
       "Global Macro              0.01499\n",
       "Long/Short Equity         0.02598\n",
       "Merger Arbitrage          0.01047\n",
       "Relative Value            0.01174\n",
       "Short Selling             0.06783\n",
       "Funds Of Funds            0.02047\n",
       "dtype: float64"
      ]
     },
     "execution_count": 8,
     "metadata": {},
     "output_type": "execute_result"
    }
   ],
   "source": [
    "erk.var_historic(hfi)"
   ]
  },
  {
   "cell_type": "markdown",
   "id": "dfaa2dc3",
   "metadata": {},
   "source": [
    "### Parametric Gaussian\n",
    "\n",
    "$$VaR_\\alpha=-\\left(\\mu + z_\\alpha\\sigma \\right)$$"
   ]
  },
  {
   "cell_type": "code",
   "execution_count": 9,
   "id": "d6629ad4",
   "metadata": {},
   "outputs": [
    {
     "data": {
      "text/plain": [
       "-1.6448536269514729"
      ]
     },
     "execution_count": 9,
     "metadata": {},
     "output_type": "execute_result"
    }
   ],
   "source": [
    "# Z-score: Percent point function in scipy.stats\n",
    "\n",
    "norm.ppf(0.05)"
   ]
  },
  {
   "cell_type": "code",
   "execution_count": 10,
   "id": "a7143910",
   "metadata": {},
   "outputs": [
    {
     "data": {
      "text/plain": [
       "-1.6448536269514729"
      ]
     },
     "execution_count": 10,
     "metadata": {},
     "output_type": "execute_result"
    }
   ],
   "source": [
    "# Z-score at 5% VaR\n",
    "z = norm.ppf(0.05)\n",
    "\n",
    "z"
   ]
  },
  {
   "cell_type": "code",
   "execution_count": 11,
   "id": "d14903dc",
   "metadata": {},
   "outputs": [
    {
     "data": {
      "text/plain": [
       "Convertible Arbitrage     0.021691\n",
       "CTA Global                0.034235\n",
       "Distressed Securities     0.021032\n",
       "Emerging Markets          0.047164\n",
       "Equity Market Neutral     0.008850\n",
       "Event Driven              0.021144\n",
       "Fixed Income Arbitrage    0.014579\n",
       "Global Macro              0.018766\n",
       "Long/Short Equity         0.026397\n",
       "Merger Arbitrage          0.010435\n",
       "Relative Value            0.013061\n",
       "Short Selling             0.080086\n",
       "Funds Of Funds            0.021292\n",
       "dtype: float64"
      ]
     },
     "execution_count": 11,
     "metadata": {},
     "output_type": "execute_result"
    }
   ],
   "source": [
    "-(hfi.mean() + (z * hfi.std(ddof=0)))"
   ]
  },
  {
   "cell_type": "code",
   "execution_count": 12,
   "id": "00fddf68",
   "metadata": {},
   "outputs": [
    {
     "data": {
      "text/plain": [
       "Convertible Arbitrage     0.021691\n",
       "CTA Global                0.034235\n",
       "Distressed Securities     0.021032\n",
       "Emerging Markets          0.047164\n",
       "Equity Market Neutral     0.008850\n",
       "Event Driven              0.021144\n",
       "Fixed Income Arbitrage    0.014579\n",
       "Global Macro              0.018766\n",
       "Long/Short Equity         0.026397\n",
       "Merger Arbitrage          0.010435\n",
       "Relative Value            0.013061\n",
       "Short Selling             0.080086\n",
       "Funds Of Funds            0.021292\n",
       "dtype: float64"
      ]
     },
     "execution_count": 12,
     "metadata": {},
     "output_type": "execute_result"
    }
   ],
   "source": [
    "erk.var_gaussian(hfi)"
   ]
  },
  {
   "cell_type": "markdown",
   "id": "02260289",
   "metadata": {},
   "source": [
    "### Modified Cornish-Fisher VaR\n",
    "\n",
    "$$\\tilde{z}_{\\alpha} = z_\\alpha + \\frac{1}{6}\\left(z^{2}_{\\alpha}-1\\right)S + \\frac{1}{24}\\left(z^{3}_{\\alpha}-3z_\\alpha\\right) \\left(K - 3\\right) - \\frac{1}{36}\\left(2z^{3}_{\\alpha}-5z_\\alpha\\right)S^2$$\n",
    "\n",
    "\n",
    "$$VaR_{mod}\\left(1-\\alpha\\right) = -\\left(\\mu + \\tilde{z}_{\\alpha}\\sigma\\right)$$"
   ]
  },
  {
   "cell_type": "code",
   "execution_count": 13,
   "id": "f75c6573",
   "metadata": {},
   "outputs": [
    {
     "data": {
      "text/html": [
       "<div>\n",
       "<style scoped>\n",
       "    .dataframe tbody tr th:only-of-type {\n",
       "        vertical-align: middle;\n",
       "    }\n",
       "\n",
       "    .dataframe tbody tr th {\n",
       "        vertical-align: top;\n",
       "    }\n",
       "\n",
       "    .dataframe thead th {\n",
       "        text-align: right;\n",
       "    }\n",
       "</style>\n",
       "<table border=\"1\" class=\"dataframe\">\n",
       "  <thead>\n",
       "    <tr style=\"text-align: right;\">\n",
       "      <th></th>\n",
       "      <th>Historic</th>\n",
       "      <th>Gaussian</th>\n",
       "      <th>Cornish-Fisher</th>\n",
       "    </tr>\n",
       "  </thead>\n",
       "  <tbody>\n",
       "    <tr>\n",
       "      <th>Convertible Arbitrage</th>\n",
       "      <td>0.01576</td>\n",
       "      <td>0.021691</td>\n",
       "      <td>0.025166</td>\n",
       "    </tr>\n",
       "    <tr>\n",
       "      <th>CTA Global</th>\n",
       "      <td>0.03169</td>\n",
       "      <td>0.034235</td>\n",
       "      <td>0.033094</td>\n",
       "    </tr>\n",
       "    <tr>\n",
       "      <th>Distressed Securities</th>\n",
       "      <td>0.01966</td>\n",
       "      <td>0.021032</td>\n",
       "      <td>0.025102</td>\n",
       "    </tr>\n",
       "    <tr>\n",
       "      <th>Emerging Markets</th>\n",
       "      <td>0.04247</td>\n",
       "      <td>0.047164</td>\n",
       "      <td>0.053011</td>\n",
       "    </tr>\n",
       "    <tr>\n",
       "      <th>Equity Market Neutral</th>\n",
       "      <td>0.00814</td>\n",
       "      <td>0.008850</td>\n",
       "      <td>0.010734</td>\n",
       "    </tr>\n",
       "    <tr>\n",
       "      <th>Event Driven</th>\n",
       "      <td>0.02535</td>\n",
       "      <td>0.021144</td>\n",
       "      <td>0.025516</td>\n",
       "    </tr>\n",
       "    <tr>\n",
       "      <th>Fixed Income Arbitrage</th>\n",
       "      <td>0.00787</td>\n",
       "      <td>0.014579</td>\n",
       "      <td>0.017881</td>\n",
       "    </tr>\n",
       "    <tr>\n",
       "      <th>Global Macro</th>\n",
       "      <td>0.01499</td>\n",
       "      <td>0.018766</td>\n",
       "      <td>0.013581</td>\n",
       "    </tr>\n",
       "    <tr>\n",
       "      <th>Long/Short Equity</th>\n",
       "      <td>0.02598</td>\n",
       "      <td>0.026397</td>\n",
       "      <td>0.027935</td>\n",
       "    </tr>\n",
       "    <tr>\n",
       "      <th>Merger Arbitrage</th>\n",
       "      <td>0.01047</td>\n",
       "      <td>0.010435</td>\n",
       "      <td>0.012612</td>\n",
       "    </tr>\n",
       "    <tr>\n",
       "      <th>Relative Value</th>\n",
       "      <td>0.01174</td>\n",
       "      <td>0.013061</td>\n",
       "      <td>0.016157</td>\n",
       "    </tr>\n",
       "    <tr>\n",
       "      <th>Short Selling</th>\n",
       "      <td>0.06783</td>\n",
       "      <td>0.080086</td>\n",
       "      <td>0.066157</td>\n",
       "    </tr>\n",
       "    <tr>\n",
       "      <th>Funds Of Funds</th>\n",
       "      <td>0.02047</td>\n",
       "      <td>0.021292</td>\n",
       "      <td>0.021576</td>\n",
       "    </tr>\n",
       "  </tbody>\n",
       "</table>\n",
       "</div>"
      ],
      "text/plain": [
       "                        Historic  Gaussian  Cornish-Fisher\n",
       "Convertible Arbitrage    0.01576  0.021691        0.025166\n",
       "CTA Global               0.03169  0.034235        0.033094\n",
       "Distressed Securities    0.01966  0.021032        0.025102\n",
       "Emerging Markets         0.04247  0.047164        0.053011\n",
       "Equity Market Neutral    0.00814  0.008850        0.010734\n",
       "Event Driven             0.02535  0.021144        0.025516\n",
       "Fixed Income Arbitrage   0.00787  0.014579        0.017881\n",
       "Global Macro             0.01499  0.018766        0.013581\n",
       "Long/Short Equity        0.02598  0.026397        0.027935\n",
       "Merger Arbitrage         0.01047  0.010435        0.012612\n",
       "Relative Value           0.01174  0.013061        0.016157\n",
       "Short Selling            0.06783  0.080086        0.066157\n",
       "Funds Of Funds           0.02047  0.021292        0.021576"
      ]
     },
     "execution_count": 13,
     "metadata": {},
     "output_type": "execute_result"
    }
   ],
   "source": [
    "var_list = [erk.var_historic(hfi),\n",
    "            erk.var_gaussian(hfi),\n",
    "            erk.var_gaussian(hfi, modified=True)]\n",
    "\n",
    "comparison = pd.concat(var_list, axis=1)\n",
    "comparison.columns = ['Historic', 'Gaussian', 'Cornish-Fisher']\n",
    "\n",
    "comparison"
   ]
  },
  {
   "cell_type": "code",
   "execution_count": 14,
   "id": "b20978e0",
   "metadata": {},
   "outputs": [
    {
     "data": {
      "text/plain": [
       "<AxesSubplot:title={'center':'EDHEC HFI: VaR'}>"
      ]
     },
     "execution_count": 14,
     "metadata": {},
     "output_type": "execute_result"
    },
    {
     "data": {
      "image/png": "[encoded data removed]",
      "text/plain": [
       "<Figure size 432x288 with 1 Axes>"
      ]
     },
     "metadata": {
      "needs_background": "light"
     },
     "output_type": "display_data"
    }
   ],
   "source": [
    "# Plot\n",
    "\n",
    "comparison.plot.bar(title='EDHEC HFI: VaR')\n",
    "\n",
    "# Note that VaR for different methods are different"
   ]
  },
  {
   "cell_type": "markdown",
   "id": "6866756b",
   "metadata": {},
   "source": [
    "### Beyond VaR aka CVaR"
   ]
  },
  {
   "cell_type": "code",
   "execution_count": 15,
   "id": "cce6c508",
   "metadata": {},
   "outputs": [
    {
     "data": {
      "text/plain": [
       "Convertible Arbitrage     0.036550\n",
       "CTA Global                0.041264\n",
       "Distressed Securities     0.036429\n",
       "Emerging Markets          0.072364\n",
       "Equity Market Neutral     0.016879\n",
       "Event Driven              0.038336\n",
       "Fixed Income Arbitrage    0.028257\n",
       "Global Macro              0.020629\n",
       "Long/Short Equity         0.041943\n",
       "Merger Arbitrage          0.019143\n",
       "Relative Value            0.024650\n",
       "Short Selling             0.096821\n",
       "Funds Of Funds            0.033207\n",
       "dtype: float64"
      ]
     },
     "execution_count": 15,
     "metadata": {},
     "output_type": "execute_result"
    }
   ],
   "source": [
    "erk.cvar_historic(hfi)\n",
    "\n",
    "# If the 5% chance happens, that is the worst 5% of the possible cases\n",
    "# When those things happen, the average of that is 3.6% loss in a month\n",
    "# if you invested in CA hfi"
   ]
  }
 ],
 "metadata": {
  "kernelspec": {
   "display_name": "Python 3 (ipykernel)",
   "language": "python",
   "name": "python3"
  },
  "language_info": {
   "codemirror_mode": {
    "name": "ipython",
    "version": 3
   },
   "file_extension": ".py",
   "mimetype": "text/x-python",
   "name": "python",
   "nbconvert_exporter": "python",
   "pygments_lexer": "ipython3",
   "version": "3.9.12"
  }
 },
 "nbformat": 4,
 "nbformat_minor": 5
}
