{
 "cells": [
  {
   "cell_type": "code",
   "execution_count": 1,
   "id": "783eb97e",
   "metadata": {},
   "outputs": [],
   "source": [
    "import numpy as np\n",
    "import pandas as pd\n",
    "import matplotlib as plt"
   ]
  },
  {
   "cell_type": "markdown",
   "id": "afdf4357",
   "metadata": {},
   "source": [
    "## Max DrawDown\n",
    " - Maximum loss from the previous high to a subsequent low\n",
    " - Worst possible return you could have seend if you bought high, sold low\n",
    "\n",
    "### DrawDown\n",
    " - From the peak to the trough\n",
    " \n",
    " \n",
    "### Constructing a Wealth Index\n",
    " - Compute DD to construct a wealth index hypothetical buy-and-hold investment in the asset\n",
    " - Look at the prior peak at any point in time\n",
    " - Plot the DD over tiem to be able to see how long it will takes to recover from the DD\n",
    "\n",
    "### Calmar Ratio\n",
    " - Ratio of the annualized return over the trailing 36 months to the maximum DD over those trailing 36 months"
   ]
  },
  {
   "cell_type": "markdown",
   "id": "4e75250e",
   "metadata": {},
   "source": [
    "### Lab Session"
   ]
  },
  {
   "cell_type": "code",
   "execution_count": 2,
   "id": "51e9bc8a",
   "metadata": {},
   "outputs": [
    {
     "data": {
      "text/html": [
       "<div>\n",
       "<style scoped>\n",
       "    .dataframe tbody tr th:only-of-type {\n",
       "        vertical-align: middle;\n",
       "    }\n",
       "\n",
       "    .dataframe tbody tr th {\n",
       "        vertical-align: top;\n",
       "    }\n",
       "\n",
       "    .dataframe thead th {\n",
       "        text-align: right;\n",
       "    }\n",
       "</style>\n",
       "<table border=\"1\" class=\"dataframe\">\n",
       "  <thead>\n",
       "    <tr style=\"text-align: right;\">\n",
       "      <th></th>\n",
       "      <th>SmallCap</th>\n",
       "      <th>MediumCap</th>\n",
       "      <th>LargeCap</th>\n",
       "      <th>Qnt 1</th>\n",
       "      <th>Qnt 2</th>\n",
       "      <th>Qnt 3</th>\n",
       "      <th>Qnt 4</th>\n",
       "      <th>Qnt 5</th>\n",
       "      <th>Dec 1</th>\n",
       "      <th>Dec 2</th>\n",
       "      <th>Dec 3</th>\n",
       "      <th>Dec 4</th>\n",
       "      <th>Dec 5</th>\n",
       "      <th>Dec 6</th>\n",
       "      <th>Dec 7</th>\n",
       "      <th>Dec 8</th>\n",
       "      <th>Dec 9</th>\n",
       "      <th>Dec 10</th>\n",
       "    </tr>\n",
       "  </thead>\n",
       "  <tbody>\n",
       "    <tr>\n",
       "      <th>192607</th>\n",
       "      <td>-0.0043</td>\n",
       "      <td>0.0152</td>\n",
       "      <td>0.0268</td>\n",
       "      <td>-0.0057</td>\n",
       "      <td>0.0059</td>\n",
       "      <td>0.0160</td>\n",
       "      <td>0.0147</td>\n",
       "      <td>0.0333</td>\n",
       "      <td>-0.0145</td>\n",
       "      <td>0.0029</td>\n",
       "      <td>-0.0015</td>\n",
       "      <td>0.0133</td>\n",
       "      <td>0.0124</td>\n",
       "      <td>0.0198</td>\n",
       "      <td>0.0155</td>\n",
       "      <td>0.0138</td>\n",
       "      <td>0.0338</td>\n",
       "      <td>0.0329</td>\n",
       "    </tr>\n",
       "    <tr>\n",
       "      <th>192608</th>\n",
       "      <td>0.0390</td>\n",
       "      <td>0.0304</td>\n",
       "      <td>0.0209</td>\n",
       "      <td>0.0384</td>\n",
       "      <td>0.0359</td>\n",
       "      <td>0.0371</td>\n",
       "      <td>0.0161</td>\n",
       "      <td>0.0233</td>\n",
       "      <td>0.0512</td>\n",
       "      <td>0.0259</td>\n",
       "      <td>0.0403</td>\n",
       "      <td>0.0315</td>\n",
       "      <td>0.0272</td>\n",
       "      <td>0.0472</td>\n",
       "      <td>0.0160</td>\n",
       "      <td>0.0163</td>\n",
       "      <td>0.0098</td>\n",
       "      <td>0.0370</td>\n",
       "    </tr>\n",
       "    <tr>\n",
       "      <th>192609</th>\n",
       "      <td>-0.0108</td>\n",
       "      <td>-0.0054</td>\n",
       "      <td>0.0016</td>\n",
       "      <td>-0.0048</td>\n",
       "      <td>-0.0140</td>\n",
       "      <td>0.0000</td>\n",
       "      <td>-0.0050</td>\n",
       "      <td>-0.0009</td>\n",
       "      <td>0.0093</td>\n",
       "      <td>-0.0187</td>\n",
       "      <td>-0.0227</td>\n",
       "      <td>-0.0053</td>\n",
       "      <td>0.0007</td>\n",
       "      <td>-0.0007</td>\n",
       "      <td>-0.0164</td>\n",
       "      <td>0.0064</td>\n",
       "      <td>-0.0086</td>\n",
       "      <td>0.0067</td>\n",
       "    </tr>\n",
       "    <tr>\n",
       "      <th>192610</th>\n",
       "      <td>-0.0332</td>\n",
       "      <td>-0.0352</td>\n",
       "      <td>-0.0306</td>\n",
       "      <td>-0.0329</td>\n",
       "      <td>-0.0410</td>\n",
       "      <td>-0.0289</td>\n",
       "      <td>-0.0336</td>\n",
       "      <td>-0.0295</td>\n",
       "      <td>-0.0484</td>\n",
       "      <td>-0.0177</td>\n",
       "      <td>-0.0336</td>\n",
       "      <td>-0.0483</td>\n",
       "      <td>-0.0298</td>\n",
       "      <td>-0.0280</td>\n",
       "      <td>-0.0345</td>\n",
       "      <td>-0.0327</td>\n",
       "      <td>-0.0347</td>\n",
       "      <td>-0.0243</td>\n",
       "    </tr>\n",
       "    <tr>\n",
       "      <th>192611</th>\n",
       "      <td>-0.0046</td>\n",
       "      <td>0.0382</td>\n",
       "      <td>0.0309</td>\n",
       "      <td>-0.0055</td>\n",
       "      <td>0.0218</td>\n",
       "      <td>0.0341</td>\n",
       "      <td>0.0339</td>\n",
       "      <td>0.0316</td>\n",
       "      <td>-0.0078</td>\n",
       "      <td>-0.0032</td>\n",
       "      <td>-0.0029</td>\n",
       "      <td>0.0465</td>\n",
       "      <td>0.0324</td>\n",
       "      <td>0.0357</td>\n",
       "      <td>0.0382</td>\n",
       "      <td>0.0295</td>\n",
       "      <td>0.0361</td>\n",
       "      <td>0.0270</td>\n",
       "    </tr>\n",
       "  </tbody>\n",
       "</table>\n",
       "</div>"
      ],
      "text/plain": [
       "        SmallCap  MediumCap  LargeCap   Qnt 1   Qnt 2   Qnt 3   Qnt 4   Qnt 5  \\\n",
       "192607   -0.0043     0.0152    0.0268 -0.0057  0.0059  0.0160  0.0147  0.0333   \n",
       "192608    0.0390     0.0304    0.0209  0.0384  0.0359  0.0371  0.0161  0.0233   \n",
       "192609   -0.0108    -0.0054    0.0016 -0.0048 -0.0140  0.0000 -0.0050 -0.0009   \n",
       "192610   -0.0332    -0.0352   -0.0306 -0.0329 -0.0410 -0.0289 -0.0336 -0.0295   \n",
       "192611   -0.0046     0.0382    0.0309 -0.0055  0.0218  0.0341  0.0339  0.0316   \n",
       "\n",
       "         Dec 1   Dec 2   Dec 3   Dec 4   Dec 5   Dec 6   Dec 7   Dec 8  \\\n",
       "192607 -0.0145  0.0029 -0.0015  0.0133  0.0124  0.0198  0.0155  0.0138   \n",
       "192608  0.0512  0.0259  0.0403  0.0315  0.0272  0.0472  0.0160  0.0163   \n",
       "192609  0.0093 -0.0187 -0.0227 -0.0053  0.0007 -0.0007 -0.0164  0.0064   \n",
       "192610 -0.0484 -0.0177 -0.0336 -0.0483 -0.0298 -0.0280 -0.0345 -0.0327   \n",
       "192611 -0.0078 -0.0032 -0.0029  0.0465  0.0324  0.0357  0.0382  0.0295   \n",
       "\n",
       "         Dec 9  Dec 10  \n",
       "192607  0.0338  0.0329  \n",
       "192608  0.0098  0.0370  \n",
       "192609 -0.0086  0.0067  \n",
       "192610 -0.0347 -0.0243  \n",
       "192611  0.0361  0.0270  "
      ]
     },
     "execution_count": 2,
     "metadata": {},
     "output_type": "execute_result"
    }
   ],
   "source": [
    "\"\"\"\n",
    "<= 0 --> NA or data is not available\n",
    "Lo 30, Med 40, Hi 30 --> divide the stocks by market cap, lowest 30, middle 40 and highest 30, then equally weighted them\n",
    "Lo 20, Qnt 2-4, Hi 20  --> quintiles: lowest 20, quintile 2 to 4, highest 20\n",
    "Lo 10, Dec 2-9, Hi 10 --> deciles: lowest 10, decile 2-9, highest 10\n",
    "\n",
    "\"\"\"\n",
    "\n",
    "portfolio = pd.read_csv('data\\Portfolios_Formed_on_ME_monthly_EW.csv',\n",
    "                         header=0, index_col=0, parse_dates=True, na_values=-99.99)\n",
    "\n",
    "portfolio = portfolio.drop(columns=['<= 0'])\n",
    "portfolio.columns = ['SmallCap', 'MediumCap', 'LargeCap',\n",
    "                     'Qnt 1', 'Qnt 2', 'Qnt 3', 'Qnt 4', 'Qnt 5',\n",
    "                     'Dec 1', 'Dec 2', 'Dec 3', 'Dec 4', 'Dec 5', 'Dec 6', 'Dec 7', 'Dec 8', 'Dec 9', 'Dec 10']\n",
    "port_ret = portfolio / 100\n",
    "port_ret.head()"
   ]
  },
  {
   "cell_type": "code",
   "execution_count": 3,
   "id": "fa574874",
   "metadata": {},
   "outputs": [
    {
     "data": {
      "text/plain": [
       "<AxesSubplot:>"
      ]
     },
     "execution_count": 3,
     "metadata": {},
     "output_type": "execute_result"
    },
    {
     "data": {
      "image/png": "[encoded data removed]",
      "text/plain": [
       "<Figure size 432x288 with 1 Axes>"
      ]
     },
     "metadata": {
      "needs_background": "light"
     },
     "output_type": "display_data"
    }
   ],
   "source": [
    "portSmallLarge = port_ret[['SmallCap', 'LargeCap']]\n",
    "\n",
    "portSmallLarge.plot.line()"
   ]
  },
  {
   "cell_type": "code",
   "execution_count": 4,
   "id": "bbdc973c",
   "metadata": {},
   "outputs": [
    {
     "data": {
      "text/plain": [
       "Int64Index([192607, 192608, 192609, 192610, 192611, 192612, 192701, 192702,\n",
       "            192703, 192704,\n",
       "            ...\n",
       "            201803, 201804, 201805, 201806, 201807, 201808, 201809, 201810,\n",
       "            201811, 201812],\n",
       "           dtype='int64', length=1110)"
      ]
     },
     "execution_count": 4,
     "metadata": {},
     "output_type": "execute_result"
    }
   ],
   "source": [
    "portSmallLarge.index"
   ]
  },
  {
   "cell_type": "code",
   "execution_count": 5,
   "id": "6444608b",
   "metadata": {},
   "outputs": [
    {
     "data": {
      "text/html": [
       "<div>\n",
       "<style scoped>\n",
       "    .dataframe tbody tr th:only-of-type {\n",
       "        vertical-align: middle;\n",
       "    }\n",
       "\n",
       "    .dataframe tbody tr th {\n",
       "        vertical-align: top;\n",
       "    }\n",
       "\n",
       "    .dataframe thead th {\n",
       "        text-align: right;\n",
       "    }\n",
       "</style>\n",
       "<table border=\"1\" class=\"dataframe\">\n",
       "  <thead>\n",
       "    <tr style=\"text-align: right;\">\n",
       "      <th></th>\n",
       "      <th>SmallCap</th>\n",
       "      <th>LargeCap</th>\n",
       "    </tr>\n",
       "  </thead>\n",
       "  <tbody>\n",
       "    <tr>\n",
       "      <th>1926-07-01</th>\n",
       "      <td>-0.0043</td>\n",
       "      <td>0.0268</td>\n",
       "    </tr>\n",
       "    <tr>\n",
       "      <th>1926-08-01</th>\n",
       "      <td>0.0390</td>\n",
       "      <td>0.0209</td>\n",
       "    </tr>\n",
       "    <tr>\n",
       "      <th>1926-09-01</th>\n",
       "      <td>-0.0108</td>\n",
       "      <td>0.0016</td>\n",
       "    </tr>\n",
       "    <tr>\n",
       "      <th>1926-10-01</th>\n",
       "      <td>-0.0332</td>\n",
       "      <td>-0.0306</td>\n",
       "    </tr>\n",
       "    <tr>\n",
       "      <th>1926-11-01</th>\n",
       "      <td>-0.0046</td>\n",
       "      <td>0.0309</td>\n",
       "    </tr>\n",
       "  </tbody>\n",
       "</table>\n",
       "</div>"
      ],
      "text/plain": [
       "            SmallCap  LargeCap\n",
       "1926-07-01   -0.0043    0.0268\n",
       "1926-08-01    0.0390    0.0209\n",
       "1926-09-01   -0.0108    0.0016\n",
       "1926-10-01   -0.0332   -0.0306\n",
       "1926-11-01   -0.0046    0.0309"
      ]
     },
     "execution_count": 5,
     "metadata": {},
     "output_type": "execute_result"
    }
   ],
   "source": [
    "portSmallLarge.index = pd.to_datetime(portSmallLarge.index, format='%Y%m')\n",
    "\n",
    "portSmallLarge.head()"
   ]
  },
  {
   "cell_type": "code",
   "execution_count": 6,
   "id": "d2043c82",
   "metadata": {},
   "outputs": [
    {
     "data": {
      "text/plain": [
       "PeriodIndex(['1926-07', '1926-08', '1926-09', '1926-10', '1926-11', '1926-12',\n",
       "             '1927-01', '1927-02', '1927-03', '1927-04',\n",
       "             ...\n",
       "             '2018-03', '2018-04', '2018-05', '2018-06', '2018-07', '2018-08',\n",
       "             '2018-09', '2018-10', '2018-11', '2018-12'],\n",
       "            dtype='period[M]', length=1110)"
      ]
     },
     "execution_count": 6,
     "metadata": {},
     "output_type": "execute_result"
    }
   ],
   "source": [
    "portSmallLarge.index = portSmallLarge.index.to_period('M')\n",
    "\n",
    "portSmallLarge.index"
   ]
  },
  {
   "cell_type": "code",
   "execution_count": 7,
   "id": "4cfd1b10",
   "metadata": {},
   "outputs": [
    {
     "data": {
      "text/html": [
       "<div>\n",
       "<style scoped>\n",
       "    .dataframe tbody tr th:only-of-type {\n",
       "        vertical-align: middle;\n",
       "    }\n",
       "\n",
       "    .dataframe tbody tr th {\n",
       "        vertical-align: top;\n",
       "    }\n",
       "\n",
       "    .dataframe thead th {\n",
       "        text-align: right;\n",
       "    }\n",
       "</style>\n",
       "<table border=\"1\" class=\"dataframe\">\n",
       "  <thead>\n",
       "    <tr style=\"text-align: right;\">\n",
       "      <th></th>\n",
       "      <th>SmallCap</th>\n",
       "      <th>LargeCap</th>\n",
       "    </tr>\n",
       "  </thead>\n",
       "  <tbody>\n",
       "    <tr>\n",
       "      <th>1926-07</th>\n",
       "      <td>-0.0043</td>\n",
       "      <td>0.0268</td>\n",
       "    </tr>\n",
       "    <tr>\n",
       "      <th>1926-08</th>\n",
       "      <td>0.0390</td>\n",
       "      <td>0.0209</td>\n",
       "    </tr>\n",
       "    <tr>\n",
       "      <th>1926-09</th>\n",
       "      <td>-0.0108</td>\n",
       "      <td>0.0016</td>\n",
       "    </tr>\n",
       "    <tr>\n",
       "      <th>1926-10</th>\n",
       "      <td>-0.0332</td>\n",
       "      <td>-0.0306</td>\n",
       "    </tr>\n",
       "    <tr>\n",
       "      <th>1926-11</th>\n",
       "      <td>-0.0046</td>\n",
       "      <td>0.0309</td>\n",
       "    </tr>\n",
       "    <tr>\n",
       "      <th>1926-12</th>\n",
       "      <td>0.0254</td>\n",
       "      <td>0.0325</td>\n",
       "    </tr>\n",
       "  </tbody>\n",
       "</table>\n",
       "</div>"
      ],
      "text/plain": [
       "         SmallCap  LargeCap\n",
       "1926-07   -0.0043    0.0268\n",
       "1926-08    0.0390    0.0209\n",
       "1926-09   -0.0108    0.0016\n",
       "1926-10   -0.0332   -0.0306\n",
       "1926-11   -0.0046    0.0309\n",
       "1926-12    0.0254    0.0325"
      ]
     },
     "execution_count": 7,
     "metadata": {},
     "output_type": "execute_result"
    }
   ],
   "source": [
    "portSmallLarge.loc['1926']"
   ]
  },
  {
   "cell_type": "code",
   "execution_count": 8,
   "id": "bbe6acd0",
   "metadata": {
    "scrolled": false
   },
   "outputs": [
    {
     "data": {
      "text/plain": [
       "<AxesSubplot:>"
      ]
     },
     "execution_count": 8,
     "metadata": {},
     "output_type": "execute_result"
    },
    {
     "data": {
      "image/png": "[encoded data removed]",
      "text/plain": [
       "<Figure size 432x288 with 1 Axes>"
      ]
     },
     "metadata": {
      "needs_background": "light"
     },
     "output_type": "display_data"
    }
   ],
   "source": [
    "portSmallLarge.plot.line()"
   ]
  },
  {
   "cell_type": "markdown",
   "id": "11622d3e",
   "metadata": {},
   "source": [
    "### Compute DrawDown\n",
    "\n",
    "1. Compute a wealth index\n",
    "2. Compute previous peaks\n",
    "3. Compute DD - which is the wealth index value as % of the previous peak"
   ]
  },
  {
   "cell_type": "code",
   "execution_count": 9,
   "id": "53b8f830",
   "metadata": {},
   "outputs": [
    {
     "data": {
      "text/plain": [
       "1926-07    1026.800000\n",
       "1926-08    1048.260120\n",
       "1926-09    1049.937336\n",
       "1926-10    1017.809254\n",
       "1926-11    1049.259560\n",
       "Freq: M, Name: LargeCap, dtype: float64"
      ]
     },
     "execution_count": 9,
     "metadata": {},
     "output_type": "execute_result"
    }
   ],
   "source": [
    "# 1. Compute a wealth index\n",
    "# Wealth index is simply the compounded returns\n",
    "wealth_index = 1000 * (1 + portSmallLarge['LargeCap']).cumprod()\n",
    "\n",
    "wealth_index.head()"
   ]
  },
  {
   "cell_type": "code",
   "execution_count": 10,
   "id": "159a49de",
   "metadata": {},
   "outputs": [
    {
     "data": {
      "text/plain": [
       "<AxesSubplot:>"
      ]
     },
     "execution_count": 10,
     "metadata": {},
     "output_type": "execute_result"
    },
    {
     "data": {
      "image/png": "[encoded data removed]",
      "text/plain": [
       "<Figure size 432x288 with 1 Axes>"
      ]
     },
     "metadata": {
      "needs_background": "light"
     },
     "output_type": "display_data"
    }
   ],
   "source": [
    "wealth_index.plot.line()"
   ]
  },
  {
   "cell_type": "code",
   "execution_count": 11,
   "id": "4db15443",
   "metadata": {},
   "outputs": [
    {
     "data": {
      "text/plain": [
       "<AxesSubplot:>"
      ]
     },
     "execution_count": 11,
     "metadata": {},
     "output_type": "execute_result"
    },
    {
     "data": {
      "image/png": "[encoded data removed]",
      "text/plain": [
       "<Figure size 432x288 with 1 Axes>"
      ]
     },
     "metadata": {
      "needs_background": "light"
     },
     "output_type": "display_data"
    }
   ],
   "source": [
    "# 2. Compute previous peaks\n",
    "previous_peaks = wealth_index.cummax()\n",
    "\n",
    "previous_peaks.plot.line()"
   ]
  },
  {
   "cell_type": "code",
   "execution_count": 12,
   "id": "32108de6",
   "metadata": {},
   "outputs": [
    {
     "data": {
      "text/plain": [
       "<AxesSubplot:>"
      ]
     },
     "execution_count": 12,
     "metadata": {},
     "output_type": "execute_result"
    },
    {
     "data": {
      "image/png": "[encoded data removed]",
      "text/plain": [
       "<Figure size 432x288 with 1 Axes>"
      ]
     },
     "metadata": {
      "needs_background": "light"
     },
     "output_type": "display_data"
    }
   ],
   "source": [
    "# 3. Compute DD - which is the wealth index value as % of the previous peak\n",
    "DD = (wealth_index - previous_peaks) / previous_peaks\n",
    "\n",
    "DD.plot.line()"
   ]
  },
  {
   "cell_type": "code",
   "execution_count": 13,
   "id": "e41e382a",
   "metadata": {},
   "outputs": [
    {
     "data": {
      "text/plain": [
       "-0.8569436338889649"
      ]
     },
     "execution_count": 13,
     "metadata": {},
     "output_type": "execute_result"
    }
   ],
   "source": [
    "# The max drawdown for the entire period\n",
    "DD.min()"
   ]
  },
  {
   "cell_type": "code",
   "execution_count": 14,
   "id": "02e27c69",
   "metadata": {},
   "outputs": [
    {
     "data": {
      "text/plain": [
       "Period('1932-05', 'M')"
      ]
     },
     "execution_count": 14,
     "metadata": {},
     "output_type": "execute_result"
    }
   ],
   "source": [
    "# The date\n",
    "DD.idxmin()"
   ]
  },
  {
   "cell_type": "code",
   "execution_count": 15,
   "id": "98360c20",
   "metadata": {},
   "outputs": [
    {
     "data": {
      "text/plain": [
       "-0.5545514230708005"
      ]
     },
     "execution_count": 15,
     "metadata": {},
     "output_type": "execute_result"
    }
   ],
   "source": [
    "# The max drawdown from 1975 onwards\n",
    "DD['1975':].min()"
   ]
  },
  {
   "cell_type": "code",
   "execution_count": 16,
   "id": "67a35654",
   "metadata": {},
   "outputs": [
    {
     "data": {
      "text/plain": [
       "Period('2009-02', 'M')"
      ]
     },
     "execution_count": 16,
     "metadata": {},
     "output_type": "execute_result"
    }
   ],
   "source": [
    "# The month of max D\n",
    "DD['1975':].idxmin()"
   ]
  },
  {
   "cell_type": "code",
   "execution_count": 17,
   "id": "bffe7483",
   "metadata": {},
   "outputs": [
    {
     "data": {
      "text/html": [
       "<div>\n",
       "<style scoped>\n",
       "    .dataframe tbody tr th:only-of-type {\n",
       "        vertical-align: middle;\n",
       "    }\n",
       "\n",
       "    .dataframe tbody tr th {\n",
       "        vertical-align: top;\n",
       "    }\n",
       "\n",
       "    .dataframe thead th {\n",
       "        text-align: right;\n",
       "    }\n",
       "</style>\n",
       "<table border=\"1\" class=\"dataframe\">\n",
       "  <thead>\n",
       "    <tr style=\"text-align: right;\">\n",
       "      <th></th>\n",
       "      <th>SmallCap</th>\n",
       "      <th>MediumCap</th>\n",
       "      <th>LargeCap</th>\n",
       "      <th>Qnt 1</th>\n",
       "      <th>Qnt 2</th>\n",
       "      <th>Qnt 3</th>\n",
       "      <th>Qnt 4</th>\n",
       "      <th>Qnt 5</th>\n",
       "      <th>Dec 1</th>\n",
       "      <th>Dec 2</th>\n",
       "      <th>Dec 3</th>\n",
       "      <th>Dec 4</th>\n",
       "      <th>Dec 5</th>\n",
       "      <th>Dec 6</th>\n",
       "      <th>Dec 7</th>\n",
       "      <th>Dec 8</th>\n",
       "      <th>Dec 9</th>\n",
       "      <th>Dec 10</th>\n",
       "    </tr>\n",
       "  </thead>\n",
       "  <tbody>\n",
       "    <tr>\n",
       "      <th>192607</th>\n",
       "      <td>-0.0043</td>\n",
       "      <td>0.0152</td>\n",
       "      <td>0.0268</td>\n",
       "      <td>-0.0057</td>\n",
       "      <td>0.0059</td>\n",
       "      <td>0.0160</td>\n",
       "      <td>0.0147</td>\n",
       "      <td>0.0333</td>\n",
       "      <td>-0.0145</td>\n",
       "      <td>0.0029</td>\n",
       "      <td>-0.0015</td>\n",
       "      <td>0.0133</td>\n",
       "      <td>0.0124</td>\n",
       "      <td>0.0198</td>\n",
       "      <td>0.0155</td>\n",
       "      <td>0.0138</td>\n",
       "      <td>0.0338</td>\n",
       "      <td>0.0329</td>\n",
       "    </tr>\n",
       "    <tr>\n",
       "      <th>192608</th>\n",
       "      <td>0.0390</td>\n",
       "      <td>0.0304</td>\n",
       "      <td>0.0209</td>\n",
       "      <td>0.0384</td>\n",
       "      <td>0.0359</td>\n",
       "      <td>0.0371</td>\n",
       "      <td>0.0161</td>\n",
       "      <td>0.0233</td>\n",
       "      <td>0.0512</td>\n",
       "      <td>0.0259</td>\n",
       "      <td>0.0403</td>\n",
       "      <td>0.0315</td>\n",
       "      <td>0.0272</td>\n",
       "      <td>0.0472</td>\n",
       "      <td>0.0160</td>\n",
       "      <td>0.0163</td>\n",
       "      <td>0.0098</td>\n",
       "      <td>0.0370</td>\n",
       "    </tr>\n",
       "    <tr>\n",
       "      <th>192609</th>\n",
       "      <td>-0.0108</td>\n",
       "      <td>-0.0054</td>\n",
       "      <td>0.0016</td>\n",
       "      <td>-0.0048</td>\n",
       "      <td>-0.0140</td>\n",
       "      <td>0.0000</td>\n",
       "      <td>-0.0050</td>\n",
       "      <td>-0.0009</td>\n",
       "      <td>0.0093</td>\n",
       "      <td>-0.0187</td>\n",
       "      <td>-0.0227</td>\n",
       "      <td>-0.0053</td>\n",
       "      <td>0.0007</td>\n",
       "      <td>-0.0007</td>\n",
       "      <td>-0.0164</td>\n",
       "      <td>0.0064</td>\n",
       "      <td>-0.0086</td>\n",
       "      <td>0.0067</td>\n",
       "    </tr>\n",
       "    <tr>\n",
       "      <th>192610</th>\n",
       "      <td>-0.0332</td>\n",
       "      <td>-0.0352</td>\n",
       "      <td>-0.0306</td>\n",
       "      <td>-0.0329</td>\n",
       "      <td>-0.0410</td>\n",
       "      <td>-0.0289</td>\n",
       "      <td>-0.0336</td>\n",
       "      <td>-0.0295</td>\n",
       "      <td>-0.0484</td>\n",
       "      <td>-0.0177</td>\n",
       "      <td>-0.0336</td>\n",
       "      <td>-0.0483</td>\n",
       "      <td>-0.0298</td>\n",
       "      <td>-0.0280</td>\n",
       "      <td>-0.0345</td>\n",
       "      <td>-0.0327</td>\n",
       "      <td>-0.0347</td>\n",
       "      <td>-0.0243</td>\n",
       "    </tr>\n",
       "    <tr>\n",
       "      <th>192611</th>\n",
       "      <td>-0.0046</td>\n",
       "      <td>0.0382</td>\n",
       "      <td>0.0309</td>\n",
       "      <td>-0.0055</td>\n",
       "      <td>0.0218</td>\n",
       "      <td>0.0341</td>\n",
       "      <td>0.0339</td>\n",
       "      <td>0.0316</td>\n",
       "      <td>-0.0078</td>\n",
       "      <td>-0.0032</td>\n",
       "      <td>-0.0029</td>\n",
       "      <td>0.0465</td>\n",
       "      <td>0.0324</td>\n",
       "      <td>0.0357</td>\n",
       "      <td>0.0382</td>\n",
       "      <td>0.0295</td>\n",
       "      <td>0.0361</td>\n",
       "      <td>0.0270</td>\n",
       "    </tr>\n",
       "  </tbody>\n",
       "</table>\n",
       "</div>"
      ],
      "text/plain": [
       "        SmallCap  MediumCap  LargeCap   Qnt 1   Qnt 2   Qnt 3   Qnt 4   Qnt 5  \\\n",
       "192607   -0.0043     0.0152    0.0268 -0.0057  0.0059  0.0160  0.0147  0.0333   \n",
       "192608    0.0390     0.0304    0.0209  0.0384  0.0359  0.0371  0.0161  0.0233   \n",
       "192609   -0.0108    -0.0054    0.0016 -0.0048 -0.0140  0.0000 -0.0050 -0.0009   \n",
       "192610   -0.0332    -0.0352   -0.0306 -0.0329 -0.0410 -0.0289 -0.0336 -0.0295   \n",
       "192611   -0.0046     0.0382    0.0309 -0.0055  0.0218  0.0341  0.0339  0.0316   \n",
       "\n",
       "         Dec 1   Dec 2   Dec 3   Dec 4   Dec 5   Dec 6   Dec 7   Dec 8  \\\n",
       "192607 -0.0145  0.0029 -0.0015  0.0133  0.0124  0.0198  0.0155  0.0138   \n",
       "192608  0.0512  0.0259  0.0403  0.0315  0.0272  0.0472  0.0160  0.0163   \n",
       "192609  0.0093 -0.0187 -0.0227 -0.0053  0.0007 -0.0007 -0.0164  0.0064   \n",
       "192610 -0.0484 -0.0177 -0.0336 -0.0483 -0.0298 -0.0280 -0.0345 -0.0327   \n",
       "192611 -0.0078 -0.0032 -0.0029  0.0465  0.0324  0.0357  0.0382  0.0295   \n",
       "\n",
       "         Dec 9  Dec 10  \n",
       "192607  0.0338  0.0329  \n",
       "192608  0.0098  0.0370  \n",
       "192609 -0.0086  0.0067  \n",
       "192610 -0.0347 -0.0243  \n",
       "192611  0.0361  0.0270  "
      ]
     },
     "execution_count": 17,
     "metadata": {},
     "output_type": "execute_result"
    }
   ],
   "source": [
    "# Create a function for getting the drawdown for all the categories\n",
    "\n",
    "port_ret.head()"
   ]
  },
  {
   "cell_type": "code",
   "execution_count": 18,
   "id": "5a722d6b",
   "metadata": {},
   "outputs": [],
   "source": [
    "def drawdown(return_series):\n",
    "    \"\"\"\n",
    "    Calculates the drawdown of asset returns over the said period\n",
    "    Input: A pd.Series of asset returns\n",
    "    Output: Wealth Index, Previous Peaks, Percent DD\n",
    "    \"\"\"\n",
    "    wealth_index = 1000 * (1 + return_series).cumprod()\n",
    "    previous_peaks = wealth_index.cummax()\n",
    "    drawdowns = (wealth_index - previous_peaks) / previous_peaks\n",
    "    df = pd.DataFrame({'Wealth': wealth_index, 'Peaks': previous_peaks, 'Drawdown': drawdowns})\n",
    "    return df    "
   ]
  },
  {
   "cell_type": "code",
   "execution_count": 19,
   "id": "aceb325f",
   "metadata": {},
   "outputs": [
    {
     "data": {
      "text/html": [
       "<div>\n",
       "<style scoped>\n",
       "    .dataframe tbody tr th:only-of-type {\n",
       "        vertical-align: middle;\n",
       "    }\n",
       "\n",
       "    .dataframe tbody tr th {\n",
       "        vertical-align: top;\n",
       "    }\n",
       "\n",
       "    .dataframe thead th {\n",
       "        text-align: right;\n",
       "    }\n",
       "</style>\n",
       "<table border=\"1\" class=\"dataframe\">\n",
       "  <thead>\n",
       "    <tr style=\"text-align: right;\">\n",
       "      <th></th>\n",
       "      <th>Wealth</th>\n",
       "      <th>Peaks</th>\n",
       "      <th>Drawdown</th>\n",
       "    </tr>\n",
       "  </thead>\n",
       "  <tbody>\n",
       "    <tr>\n",
       "      <th>192607</th>\n",
       "      <td>994.300000</td>\n",
       "      <td>994.30000</td>\n",
       "      <td>0.000000</td>\n",
       "    </tr>\n",
       "    <tr>\n",
       "      <th>192608</th>\n",
       "      <td>1032.481120</td>\n",
       "      <td>1032.48112</td>\n",
       "      <td>0.000000</td>\n",
       "    </tr>\n",
       "    <tr>\n",
       "      <th>192609</th>\n",
       "      <td>1027.525211</td>\n",
       "      <td>1032.48112</td>\n",
       "      <td>-0.004800</td>\n",
       "    </tr>\n",
       "    <tr>\n",
       "      <th>192610</th>\n",
       "      <td>993.719631</td>\n",
       "      <td>1032.48112</td>\n",
       "      <td>-0.037542</td>\n",
       "    </tr>\n",
       "    <tr>\n",
       "      <th>192611</th>\n",
       "      <td>988.254173</td>\n",
       "      <td>1032.48112</td>\n",
       "      <td>-0.042836</td>\n",
       "    </tr>\n",
       "  </tbody>\n",
       "</table>\n",
       "</div>"
      ],
      "text/plain": [
       "             Wealth       Peaks  Drawdown\n",
       "192607   994.300000   994.30000  0.000000\n",
       "192608  1032.481120  1032.48112  0.000000\n",
       "192609  1027.525211  1032.48112 -0.004800\n",
       "192610   993.719631  1032.48112 -0.037542\n",
       "192611   988.254173  1032.48112 -0.042836"
      ]
     },
     "execution_count": 19,
     "metadata": {},
     "output_type": "execute_result"
    }
   ],
   "source": [
    "a = drawdown(port_ret['Qnt 1']).head()\n",
    "\n",
    "a.head()"
   ]
  }
 ],
 "metadata": {
  "kernelspec": {
   "display_name": "Python 3 (ipykernel)",
   "language": "python",
   "name": "python3"
  },
  "language_info": {
   "codemirror_mode": {
    "name": "ipython",
    "version": 3
   },
   "file_extension": ".py",
   "mimetype": "text/x-python",
   "name": "python",
   "nbconvert_exporter": "python",
   "pygments_lexer": "ipython3",
   "version": "3.9.12"
  }
 },
 "nbformat": 4,
 "nbformat_minor": 5
}
