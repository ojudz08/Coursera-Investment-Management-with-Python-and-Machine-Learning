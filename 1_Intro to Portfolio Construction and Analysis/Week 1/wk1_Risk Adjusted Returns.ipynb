{
 "cells": [
  {
   "cell_type": "code",
   "execution_count": 1,
   "id": "783eb97e",
   "metadata": {},
   "outputs": [],
   "source": [
    "import numpy as np\n",
    "import pandas as pd\n",
    "import os\n",
    "import matplotlib as plt"
   ]
  },
  {
   "cell_type": "markdown",
   "id": "afdf4357",
   "metadata": {},
   "source": [
    "## Measures of Risk and Reward\n",
    "\n",
    "### Variance\n",
    " - The average of the square of the deviations from the mean\n",
    " \n",
    "$${\\sigma}^{2}_{R} = {\\frac{1}{N}}{\\sum\\limits _{i=1} ^{N}}{\\left({R}_{i} - \\bar{R}\\right)^{2}}$$\n",
    "\n",
    "### Standard Deviation\n",
    " - Square root of the variance\n",
    " \n",
    "$${\\sigma}_{R} = \\sqrt{{\\frac{1}{N}}{\\sum\\limits _{i=1} ^{N}}{\\left({R}_{i} - \\bar{R}\\right)^{2}}}$$\n",
    "\n",
    "### Annualizing Volatility\n",
    "$${\\sigma}_{ann} = {\\sigma}_{p}\\sqrt{p}$$\n",
    "\n",
    "### Excess Return\n",
    " - Excess return over the risk free rate\n",
    "\n",
    "$$\\text{Return on Risk Ratio} = \\frac{Return}{Volatility}$$\n",
    "\n",
    "$$\\text{Sharpe Ratio (P)} = \\frac{\\text{Return - Risk free rate}}{Volatility}=\\frac{{R}_{p} - {R}_{f}}{{\\sigma}_{p}}$$"
   ]
  },
  {
   "cell_type": "markdown",
   "id": "4e75250e",
   "metadata": {},
   "source": [
    "### Lab Session"
   ]
  },
  {
   "cell_type": "code",
   "execution_count": 2,
   "id": "51e9bc8a",
   "metadata": {},
   "outputs": [
    {
     "data": {
      "text/html": [
       "<div>\n",
       "<style scoped>\n",
       "    .dataframe tbody tr th:only-of-type {\n",
       "        vertical-align: middle;\n",
       "    }\n",
       "\n",
       "    .dataframe tbody tr th {\n",
       "        vertical-align: top;\n",
       "    }\n",
       "\n",
       "    .dataframe thead th {\n",
       "        text-align: right;\n",
       "    }\n",
       "</style>\n",
       "<table border=\"1\" class=\"dataframe\">\n",
       "  <thead>\n",
       "    <tr style=\"text-align: right;\">\n",
       "      <th></th>\n",
       "      <th>BLUE</th>\n",
       "      <th>ORANGE</th>\n",
       "      <th>BLUE_pct</th>\n",
       "      <th>ORANGE_pct</th>\n",
       "    </tr>\n",
       "  </thead>\n",
       "  <tbody>\n",
       "    <tr>\n",
       "      <th>1</th>\n",
       "      <td>8.9055</td>\n",
       "      <td>11.0828</td>\n",
       "      <td>0.023621</td>\n",
       "      <td>0.039662</td>\n",
       "    </tr>\n",
       "    <tr>\n",
       "      <th>2</th>\n",
       "      <td>8.7113</td>\n",
       "      <td>10.7100</td>\n",
       "      <td>-0.021807</td>\n",
       "      <td>-0.033638</td>\n",
       "    </tr>\n",
       "    <tr>\n",
       "      <th>3</th>\n",
       "      <td>8.4346</td>\n",
       "      <td>11.5907</td>\n",
       "      <td>-0.031763</td>\n",
       "      <td>0.082232</td>\n",
       "    </tr>\n",
       "    <tr>\n",
       "      <th>4</th>\n",
       "      <td>8.7254</td>\n",
       "      <td>12.1070</td>\n",
       "      <td>0.034477</td>\n",
       "      <td>0.044544</td>\n",
       "    </tr>\n",
       "    <tr>\n",
       "      <th>5</th>\n",
       "      <td>9.0551</td>\n",
       "      <td>11.7876</td>\n",
       "      <td>0.037786</td>\n",
       "      <td>-0.026381</td>\n",
       "    </tr>\n",
       "    <tr>\n",
       "      <th>6</th>\n",
       "      <td>8.9514</td>\n",
       "      <td>11.2078</td>\n",
       "      <td>-0.011452</td>\n",
       "      <td>-0.049187</td>\n",
       "    </tr>\n",
       "    <tr>\n",
       "      <th>7</th>\n",
       "      <td>9.2439</td>\n",
       "      <td>12.5192</td>\n",
       "      <td>0.032676</td>\n",
       "      <td>0.117008</td>\n",
       "    </tr>\n",
       "    <tr>\n",
       "      <th>8</th>\n",
       "      <td>9.1276</td>\n",
       "      <td>13.3624</td>\n",
       "      <td>-0.012581</td>\n",
       "      <td>0.067353</td>\n",
       "    </tr>\n",
       "    <tr>\n",
       "      <th>9</th>\n",
       "      <td>9.3976</td>\n",
       "      <td>14.4080</td>\n",
       "      <td>0.029581</td>\n",
       "      <td>0.078249</td>\n",
       "    </tr>\n",
       "    <tr>\n",
       "      <th>10</th>\n",
       "      <td>9.4554</td>\n",
       "      <td>11.9837</td>\n",
       "      <td>0.006151</td>\n",
       "      <td>-0.168261</td>\n",
       "    </tr>\n",
       "    <tr>\n",
       "      <th>11</th>\n",
       "      <td>9.5704</td>\n",
       "      <td>12.2718</td>\n",
       "      <td>0.012162</td>\n",
       "      <td>0.024041</td>\n",
       "    </tr>\n",
       "    <tr>\n",
       "      <th>12</th>\n",
       "      <td>9.7728</td>\n",
       "      <td>11.5892</td>\n",
       "      <td>0.021149</td>\n",
       "      <td>-0.055623</td>\n",
       "    </tr>\n",
       "  </tbody>\n",
       "</table>\n",
       "</div>"
      ],
      "text/plain": [
       "      BLUE   ORANGE  BLUE_pct  ORANGE_pct\n",
       "1   8.9055  11.0828  0.023621    0.039662\n",
       "2   8.7113  10.7100 -0.021807   -0.033638\n",
       "3   8.4346  11.5907 -0.031763    0.082232\n",
       "4   8.7254  12.1070  0.034477    0.044544\n",
       "5   9.0551  11.7876  0.037786   -0.026381\n",
       "6   8.9514  11.2078 -0.011452   -0.049187\n",
       "7   9.2439  12.5192  0.032676    0.117008\n",
       "8   9.1276  13.3624 -0.012581    0.067353\n",
       "9   9.3976  14.4080  0.029581    0.078249\n",
       "10  9.4554  11.9837  0.006151   -0.168261\n",
       "11  9.5704  12.2718  0.012162    0.024041\n",
       "12  9.7728  11.5892  0.021149   -0.055623"
      ]
     },
     "execution_count": 2,
     "metadata": {},
     "output_type": "execute_result"
    }
   ],
   "source": [
    "file_path = r'C:\\Users\\ojell\\Desktop\\Oj\\2_Coursera\\InvMgmt_Edhec\\data'\n",
    "sample_prices = pd.read_csv(file_path + '\\sample_prices.csv')\n",
    "returns = (sample_prices / sample_prices.shift()) - 1 #sample_prices.pct_change()\n",
    "\n",
    "# Returns of sample prices\n",
    "df = pd.concat([sample_prices, returns], axis=1, ignore_index=True)\n",
    "df = df.dropna()\n",
    "df.columns = ['BLUE', 'ORANGE', 'BLUE_pct', 'ORANGE_pct']\n",
    "df"
   ]
  },
  {
   "cell_type": "code",
   "execution_count": 3,
   "id": "6b3bdf14",
   "metadata": {},
   "outputs": [
    {
     "data": {
      "text/plain": [
       "BLUE          0.393640\n",
       "ORANGE        1.022121\n",
       "BLUE_pct      0.023977\n",
       "ORANGE_pct    0.079601\n",
       "dtype: float64"
      ]
     },
     "execution_count": 3,
     "metadata": {},
     "output_type": "execute_result"
    }
   ],
   "source": [
    "df.std()"
   ]
  },
  {
   "cell_type": "code",
   "execution_count": 4,
   "id": "846a4534",
   "metadata": {},
   "outputs": [
    {
     "data": {
      "text/plain": [
       "BLUE_pct      0.023977\n",
       "ORANGE_pct    0.079601\n",
       "dtype: float64"
      ]
     },
     "execution_count": 4,
     "metadata": {},
     "output_type": "execute_result"
    }
   ],
   "source": [
    "# Calculating the standard deviation\n",
    "\n",
    "volatility = df[['BLUE_pct', 'ORANGE_pct']].std()\n",
    "volatility"
   ]
  },
  {
   "cell_type": "code",
   "execution_count": 5,
   "id": "81e69e6c",
   "metadata": {},
   "outputs": [
    {
     "data": {
      "text/plain": [
       "BLUE_pct      0.023977\n",
       "ORANGE_pct    0.079601\n",
       "dtype: float64"
      ]
     },
     "execution_count": 5,
     "metadata": {},
     "output_type": "execute_result"
    }
   ],
   "source": [
    "# Manual calculation of standard deviation\n",
    "\n",
    "ret = df[['BLUE_pct', 'ORANGE_pct']]\n",
    "\n",
    "deviations = ret - ret.mean()\n",
    "square_deviations = np.power(deviations, 2)\n",
    "sum_sqrdev = np.sum(square_deviations)\n",
    "\n",
    "vol_calc = (sum_sqrdev / (ret.shape[0]-1)) ** 0.5\n",
    "vol_calc\n"
   ]
  },
  {
   "cell_type": "code",
   "execution_count": 6,
   "id": "b5a9a30d",
   "metadata": {},
   "outputs": [
    {
     "data": {
      "text/plain": [
       "BLUE_pct      0.023977\n",
       "ORANGE_pct    0.079601\n",
       "dtype: float64"
      ]
     },
     "execution_count": 6,
     "metadata": {},
     "output_type": "execute_result"
    }
   ],
   "source": [
    "var_calc = (np.sum((ret - ret.mean()) ** 2)) / (ret.shape[0] - 1)\n",
    "\n",
    "vol_calc = np.sqrt(var_calc)\n",
    "vol_calc"
   ]
  },
  {
   "cell_type": "code",
   "execution_count": 7,
   "id": "47b7289e",
   "metadata": {},
   "outputs": [
    {
     "data": {
      "text/plain": [
       "BLUE_pct      0.083060\n",
       "ORANGE_pct    0.275747\n",
       "dtype: float64"
      ]
     },
     "execution_count": 7,
     "metadata": {},
     "output_type": "execute_result"
    }
   ],
   "source": [
    "# Annualized Volatility\n",
    "\n",
    "ann_vol = vol_calc * np.sqrt(12)\n",
    "ann_vol"
   ]
  },
  {
   "cell_type": "code",
   "execution_count": 25,
   "id": "b95eda2e",
   "metadata": {},
   "outputs": [
    {
     "data": {
      "text/html": [
       "<div>\n",
       "<style scoped>\n",
       "    .dataframe tbody tr th:only-of-type {\n",
       "        vertical-align: middle;\n",
       "    }\n",
       "\n",
       "    .dataframe tbody tr th {\n",
       "        vertical-align: top;\n",
       "    }\n",
       "\n",
       "    .dataframe thead th {\n",
       "        text-align: right;\n",
       "    }\n",
       "</style>\n",
       "<table border=\"1\" class=\"dataframe\">\n",
       "  <thead>\n",
       "    <tr style=\"text-align: right;\">\n",
       "      <th></th>\n",
       "      <th>&lt;= 0</th>\n",
       "      <th>Lo 30</th>\n",
       "      <th>Med 40</th>\n",
       "      <th>Hi 30</th>\n",
       "      <th>Lo 20</th>\n",
       "      <th>Qnt 2</th>\n",
       "      <th>Qnt 3</th>\n",
       "      <th>Qnt 4</th>\n",
       "      <th>Hi 20</th>\n",
       "      <th>Lo 10</th>\n",
       "      <th>Dec 2</th>\n",
       "      <th>Dec 3</th>\n",
       "      <th>Dec 4</th>\n",
       "      <th>Dec 5</th>\n",
       "      <th>Dec 6</th>\n",
       "      <th>Dec 7</th>\n",
       "      <th>Dec 8</th>\n",
       "      <th>Dec 9</th>\n",
       "      <th>Hi 10</th>\n",
       "    </tr>\n",
       "  </thead>\n",
       "  <tbody>\n",
       "    <tr>\n",
       "      <th>192607</th>\n",
       "      <td>-99.99</td>\n",
       "      <td>-0.43</td>\n",
       "      <td>1.52</td>\n",
       "      <td>2.68</td>\n",
       "      <td>-0.57</td>\n",
       "      <td>0.59</td>\n",
       "      <td>1.60</td>\n",
       "      <td>1.47</td>\n",
       "      <td>3.33</td>\n",
       "      <td>-1.45</td>\n",
       "      <td>0.29</td>\n",
       "      <td>-0.15</td>\n",
       "      <td>1.33</td>\n",
       "      <td>1.24</td>\n",
       "      <td>1.98</td>\n",
       "      <td>1.55</td>\n",
       "      <td>1.38</td>\n",
       "      <td>3.38</td>\n",
       "      <td>3.29</td>\n",
       "    </tr>\n",
       "    <tr>\n",
       "      <th>192608</th>\n",
       "      <td>-99.99</td>\n",
       "      <td>3.90</td>\n",
       "      <td>3.04</td>\n",
       "      <td>2.09</td>\n",
       "      <td>3.84</td>\n",
       "      <td>3.59</td>\n",
       "      <td>3.71</td>\n",
       "      <td>1.61</td>\n",
       "      <td>2.33</td>\n",
       "      <td>5.12</td>\n",
       "      <td>2.59</td>\n",
       "      <td>4.03</td>\n",
       "      <td>3.15</td>\n",
       "      <td>2.72</td>\n",
       "      <td>4.72</td>\n",
       "      <td>1.60</td>\n",
       "      <td>1.63</td>\n",
       "      <td>0.98</td>\n",
       "      <td>3.70</td>\n",
       "    </tr>\n",
       "    <tr>\n",
       "      <th>192609</th>\n",
       "      <td>-99.99</td>\n",
       "      <td>-1.08</td>\n",
       "      <td>-0.54</td>\n",
       "      <td>0.16</td>\n",
       "      <td>-0.48</td>\n",
       "      <td>-1.40</td>\n",
       "      <td>0.00</td>\n",
       "      <td>-0.50</td>\n",
       "      <td>-0.09</td>\n",
       "      <td>0.93</td>\n",
       "      <td>-1.87</td>\n",
       "      <td>-2.27</td>\n",
       "      <td>-0.53</td>\n",
       "      <td>0.07</td>\n",
       "      <td>-0.07</td>\n",
       "      <td>-1.64</td>\n",
       "      <td>0.64</td>\n",
       "      <td>-0.86</td>\n",
       "      <td>0.67</td>\n",
       "    </tr>\n",
       "    <tr>\n",
       "      <th>192610</th>\n",
       "      <td>-99.99</td>\n",
       "      <td>-3.32</td>\n",
       "      <td>-3.52</td>\n",
       "      <td>-3.06</td>\n",
       "      <td>-3.29</td>\n",
       "      <td>-4.10</td>\n",
       "      <td>-2.89</td>\n",
       "      <td>-3.36</td>\n",
       "      <td>-2.95</td>\n",
       "      <td>-4.84</td>\n",
       "      <td>-1.77</td>\n",
       "      <td>-3.36</td>\n",
       "      <td>-4.83</td>\n",
       "      <td>-2.98</td>\n",
       "      <td>-2.80</td>\n",
       "      <td>-3.45</td>\n",
       "      <td>-3.27</td>\n",
       "      <td>-3.47</td>\n",
       "      <td>-2.43</td>\n",
       "    </tr>\n",
       "    <tr>\n",
       "      <th>192611</th>\n",
       "      <td>-99.99</td>\n",
       "      <td>-0.46</td>\n",
       "      <td>3.82</td>\n",
       "      <td>3.09</td>\n",
       "      <td>-0.55</td>\n",
       "      <td>2.18</td>\n",
       "      <td>3.41</td>\n",
       "      <td>3.39</td>\n",
       "      <td>3.16</td>\n",
       "      <td>-0.78</td>\n",
       "      <td>-0.32</td>\n",
       "      <td>-0.29</td>\n",
       "      <td>4.65</td>\n",
       "      <td>3.24</td>\n",
       "      <td>3.57</td>\n",
       "      <td>3.82</td>\n",
       "      <td>2.95</td>\n",
       "      <td>3.61</td>\n",
       "      <td>2.70</td>\n",
       "    </tr>\n",
       "  </tbody>\n",
       "</table>\n",
       "</div>"
      ],
      "text/plain": [
       "         <= 0  Lo 30  Med 40  Hi 30  Lo 20  Qnt 2  Qnt 3  Qnt 4  Hi 20  Lo 10  \\\n",
       "192607 -99.99  -0.43    1.52   2.68  -0.57   0.59   1.60   1.47   3.33  -1.45   \n",
       "192608 -99.99   3.90    3.04   2.09   3.84   3.59   3.71   1.61   2.33   5.12   \n",
       "192609 -99.99  -1.08   -0.54   0.16  -0.48  -1.40   0.00  -0.50  -0.09   0.93   \n",
       "192610 -99.99  -3.32   -3.52  -3.06  -3.29  -4.10  -2.89  -3.36  -2.95  -4.84   \n",
       "192611 -99.99  -0.46    3.82   3.09  -0.55   2.18   3.41   3.39   3.16  -0.78   \n",
       "\n",
       "        Dec 2  Dec 3  Dec 4  Dec 5  Dec 6  Dec 7  Dec 8  Dec 9  Hi 10  \n",
       "192607   0.29  -0.15   1.33   1.24   1.98   1.55   1.38   3.38   3.29  \n",
       "192608   2.59   4.03   3.15   2.72   4.72   1.60   1.63   0.98   3.70  \n",
       "192609  -1.87  -2.27  -0.53   0.07  -0.07  -1.64   0.64  -0.86   0.67  \n",
       "192610  -1.77  -3.36  -4.83  -2.98  -2.80  -3.45  -3.27  -3.47  -2.43  \n",
       "192611  -0.32  -0.29   4.65   3.24   3.57   3.82   2.95   3.61   2.70  "
      ]
     },
     "execution_count": 25,
     "metadata": {},
     "output_type": "execute_result"
    }
   ],
   "source": [
    "\"\"\"\n",
    "<= 0 --> NA or data is not available\n",
    "Lo 30, Med 40, Hi 30 --> divide the stocks by market cap, lowest 30, middle 40 and highest 30, then equally weighted them\n",
    "Lo 20, Qnt 2-4, Hi 20  --> quintiles: lowest 20, quintile 2 to 4, highest 20\n",
    "Lo 10, Dec 2-9, Hi 10 --> deciles: lowest 10, decile 2-9, highest 10\n",
    "\n",
    "\"\"\"\n",
    "\n",
    "file_path = r'C:\\Users\\ojell\\Desktop\\Oj\\2_Coursera\\InvMgmt_Edhec\\data'\n",
    "portfolio = pd.read_csv(file_path + '\\Portfolios_Formed_on_ME_monthly_EW.csv',\n",
    "                        header=0, index_col=0, parse_dates=True)\n",
    "port_ret = portfolio.copy()\n",
    "\n",
    "port_ret.head()"
   ]
  },
  {
   "cell_type": "code",
   "execution_count": 9,
   "id": "76e71353",
   "metadata": {},
   "outputs": [
    {
     "data": {
      "text/html": [
       "<div>\n",
       "<style scoped>\n",
       "    .dataframe tbody tr th:only-of-type {\n",
       "        vertical-align: middle;\n",
       "    }\n",
       "\n",
       "    .dataframe tbody tr th {\n",
       "        vertical-align: top;\n",
       "    }\n",
       "\n",
       "    .dataframe thead th {\n",
       "        text-align: right;\n",
       "    }\n",
       "</style>\n",
       "<table border=\"1\" class=\"dataframe\">\n",
       "  <thead>\n",
       "    <tr style=\"text-align: right;\">\n",
       "      <th></th>\n",
       "      <th>Lo 10</th>\n",
       "      <th>Hi 10</th>\n",
       "    </tr>\n",
       "  </thead>\n",
       "  <tbody>\n",
       "    <tr>\n",
       "      <th>192607</th>\n",
       "      <td>-0.0145</td>\n",
       "      <td>0.0329</td>\n",
       "    </tr>\n",
       "    <tr>\n",
       "      <th>192608</th>\n",
       "      <td>0.0512</td>\n",
       "      <td>0.0370</td>\n",
       "    </tr>\n",
       "    <tr>\n",
       "      <th>192609</th>\n",
       "      <td>0.0093</td>\n",
       "      <td>0.0067</td>\n",
       "    </tr>\n",
       "    <tr>\n",
       "      <th>192610</th>\n",
       "      <td>-0.0484</td>\n",
       "      <td>-0.0243</td>\n",
       "    </tr>\n",
       "    <tr>\n",
       "      <th>192611</th>\n",
       "      <td>-0.0078</td>\n",
       "      <td>0.0270</td>\n",
       "    </tr>\n",
       "  </tbody>\n",
       "</table>\n",
       "</div>"
      ],
      "text/plain": [
       "         Lo 10   Hi 10\n",
       "192607 -0.0145  0.0329\n",
       "192608  0.0512  0.0370\n",
       "192609  0.0093  0.0067\n",
       "192610 -0.0484 -0.0243\n",
       "192611 -0.0078  0.0270"
      ]
     },
     "execution_count": 9,
     "metadata": {},
     "output_type": "execute_result"
    }
   ],
   "source": [
    "cols = ['Lo 10', 'Hi 10']\n",
    "\n",
    "port_ret = port_ret[cols] / 100\n",
    "port_ret.head()"
   ]
  },
  {
   "cell_type": "code",
   "execution_count": 10,
   "id": "84d3292e",
   "metadata": {},
   "outputs": [
    {
     "data": {
      "text/html": [
       "<div>\n",
       "<style scoped>\n",
       "    .dataframe tbody tr th:only-of-type {\n",
       "        vertical-align: middle;\n",
       "    }\n",
       "\n",
       "    .dataframe tbody tr th {\n",
       "        vertical-align: top;\n",
       "    }\n",
       "\n",
       "    .dataframe thead th {\n",
       "        text-align: right;\n",
       "    }\n",
       "</style>\n",
       "<table border=\"1\" class=\"dataframe\">\n",
       "  <thead>\n",
       "    <tr style=\"text-align: right;\">\n",
       "      <th></th>\n",
       "      <th>SmallCap</th>\n",
       "      <th>LargeCap</th>\n",
       "    </tr>\n",
       "  </thead>\n",
       "  <tbody>\n",
       "    <tr>\n",
       "      <th>192607</th>\n",
       "      <td>-0.0145</td>\n",
       "      <td>0.0329</td>\n",
       "    </tr>\n",
       "    <tr>\n",
       "      <th>192608</th>\n",
       "      <td>0.0512</td>\n",
       "      <td>0.0370</td>\n",
       "    </tr>\n",
       "    <tr>\n",
       "      <th>192609</th>\n",
       "      <td>0.0093</td>\n",
       "      <td>0.0067</td>\n",
       "    </tr>\n",
       "    <tr>\n",
       "      <th>192610</th>\n",
       "      <td>-0.0484</td>\n",
       "      <td>-0.0243</td>\n",
       "    </tr>\n",
       "    <tr>\n",
       "      <th>192611</th>\n",
       "      <td>-0.0078</td>\n",
       "      <td>0.0270</td>\n",
       "    </tr>\n",
       "  </tbody>\n",
       "</table>\n",
       "</div>"
      ],
      "text/plain": [
       "        SmallCap  LargeCap\n",
       "192607   -0.0145    0.0329\n",
       "192608    0.0512    0.0370\n",
       "192609    0.0093    0.0067\n",
       "192610   -0.0484   -0.0243\n",
       "192611   -0.0078    0.0270"
      ]
     },
     "execution_count": 10,
     "metadata": {},
     "output_type": "execute_result"
    }
   ],
   "source": [
    "port_ret.columns = ['SmallCap', 'LargeCap']\n",
    "port_ret.head()"
   ]
  },
  {
   "cell_type": "code",
   "execution_count": 11,
   "id": "6b247670",
   "metadata": {},
   "outputs": [
    {
     "data": {
      "text/plain": [
       "<AxesSubplot:>"
      ]
     },
     "execution_count": 11,
     "metadata": {},
     "output_type": "execute_result"
    },
    {
     "data": {
      "image/png": "[encoded data removed]",
      "text/plain": [
       "<Figure size 432x288 with 1 Axes>"
      ]
     },
     "metadata": {
      "needs_background": "light"
     },
     "output_type": "display_data"
    }
   ],
   "source": [
    "port_ret.plot.line()"
   ]
  },
  {
   "cell_type": "code",
   "execution_count": 12,
   "id": "14ac6f00",
   "metadata": {},
   "outputs": [
    {
     "data": {
      "text/plain": [
       "'\\nCalculate Excess Return\\n1. Calculate annualized return\\n   a. Calculate (r_daily_0 + 1) * (r_daily_nth + 1) --> compounding\\n   b. Calculate r_monthly = r compounding ^ (1/nth)\\n   c. Annualized return = r_monthly * sqrt(12)\\n\\n2. Calculate excess return\\n   a. Excess Return = (r - rf) / vol\\n\\n'"
      ]
     },
     "execution_count": 12,
     "metadata": {},
     "output_type": "execute_result"
    }
   ],
   "source": [
    "\"\"\"\n",
    "Calculate Excess Return\n",
    "1. Calculate annualized return\n",
    "   a. Calculate (r_daily_0 + 1) * (r_daily_nth + 1) --> compounding\n",
    "   b. Calculate r_monthly = r compounding ^ (1/nth)\n",
    "   c. Annualized return = r_monthly * sqrt(12)\n",
    "\n",
    "2. Calculate excess return\n",
    "   a. Excess Return = (r - rf) / vol\n",
    "\n",
    "\"\"\""
   ]
  },
  {
   "cell_type": "code",
   "execution_count": 13,
   "id": "4a602251",
   "metadata": {},
   "outputs": [
    {
     "name": "stdout",
     "output_type": "stream",
     "text": [
      "Calculated Mean\n",
      " SmallCap    0.017598\n",
      "LargeCap    0.008870\n",
      "dtype: float64 \n",
      "\n",
      "Calculated Std Dev\n",
      " SmallCap    0.106288\n",
      "LargeCap    0.053900\n",
      "dtype: float64\n"
     ]
    }
   ],
   "source": [
    "# Calculate mean and stdv\n",
    "port_mean = port_ret.mean()\n",
    "port_std = port_ret.std()\n",
    "\n",
    "print('Calculated Mean\\n',port_mean, '\\n\\nCalculated Std Dev\\n', port_std)"
   ]
  },
  {
   "cell_type": "code",
   "execution_count": 14,
   "id": "8e403fac",
   "metadata": {},
   "outputs": [
    {
     "data": {
      "text/plain": [
       "SmallCap    0.368193\n",
       "LargeCap    0.186716\n",
       "dtype: float64"
      ]
     },
     "execution_count": 14,
     "metadata": {},
     "output_type": "execute_result"
    }
   ],
   "source": [
    "# Calculate annualized volatility\n",
    "port_ann = port_std * np.sqrt(12)\n",
    "port_ann"
   ]
  },
  {
   "cell_type": "code",
   "execution_count": 15,
   "id": "0f35bb8d",
   "metadata": {},
   "outputs": [
    {
     "data": {
      "text/plain": [
       "SmallCap    0.012986\n",
       "LargeCap    0.007423\n",
       "dtype: float64"
      ]
     },
     "execution_count": 15,
     "metadata": {},
     "output_type": "execute_result"
    }
   ],
   "source": [
    "# Calculate return per month\n",
    "\n",
    "n_mnth = port_ret.shape[0]\n",
    "\n",
    "port_ret_mnth = ((port_ret +  1).prod() ** (1/n_mnth)) - 1   # note that (port_ret + 1).prod() is compounding rate of return \n",
    "port_ret_mnth"
   ]
  },
  {
   "cell_type": "code",
   "execution_count": 16,
   "id": "8a53cadc",
   "metadata": {},
   "outputs": [
    {
     "data": {
      "text/plain": [
       "SmallCap    0.167463\n",
       "LargeCap    0.092810\n",
       "dtype: float64"
      ]
     },
     "execution_count": 16,
     "metadata": {},
     "output_type": "execute_result"
    }
   ],
   "source": [
    "ann_ret = ((port_ret_mnth + 1) ** 12) - 1\n",
    "ann_ret"
   ]
  },
  {
   "cell_type": "code",
   "execution_count": 17,
   "id": "9d8d68a4",
   "metadata": {},
   "outputs": [
    {
     "data": {
      "text/plain": [
       "SmallCap    0.167463\n",
       "LargeCap    0.092810\n",
       "dtype: float64"
      ]
     },
     "execution_count": 17,
     "metadata": {},
     "output_type": "execute_result"
    }
   ],
   "source": [
    "# Calculating Annualized Return in one step\n",
    "ann_ret = (port_ret + 1).prod() ** (12/n_mnth) - 1\n",
    "ann_ret"
   ]
  },
  {
   "cell_type": "code",
   "execution_count": 18,
   "id": "3092163b",
   "metadata": {},
   "outputs": [
    {
     "data": {
      "text/plain": [
       "SmallCap    0.368193\n",
       "LargeCap    0.186716\n",
       "dtype: float64"
      ]
     },
     "execution_count": 18,
     "metadata": {},
     "output_type": "execute_result"
    }
   ],
   "source": [
    "# Calculate Annualized Volatility\n",
    "ann_vol = (port_ret.std()) * np.sqrt(12)  # note: lab session used np.sqrt(12), i corrected since std is calculated for 1100 data points\n",
    "ann_vol"
   ]
  },
  {
   "cell_type": "code",
   "execution_count": 19,
   "id": "525c0b41",
   "metadata": {},
   "outputs": [
    {
     "data": {
      "text/plain": [
       "SmallCap    0.454825\n",
       "LargeCap    0.497063\n",
       "dtype: float64"
      ]
     },
     "execution_count": 19,
     "metadata": {},
     "output_type": "execute_result"
    }
   ],
   "source": [
    "ann_ret / ann_vol"
   ]
  },
  {
   "cell_type": "code",
   "execution_count": 20,
   "id": "631c2870",
   "metadata": {},
   "outputs": [
    {
     "data": {
      "text/plain": [
       "SmallCap    0.373346\n",
       "LargeCap    0.336392\n",
       "dtype: float64"
      ]
     },
     "execution_count": 20,
     "metadata": {},
     "output_type": "execute_result"
    }
   ],
   "source": [
    "(ann_ret - 0.03) / ann_vol"
   ]
  },
  {
   "cell_type": "code",
   "execution_count": 21,
   "id": "5ec55780",
   "metadata": {},
   "outputs": [
    {
     "data": {
      "text/html": [
       "<div>\n",
       "<style scoped>\n",
       "    .dataframe tbody tr th:only-of-type {\n",
       "        vertical-align: middle;\n",
       "    }\n",
       "\n",
       "    .dataframe tbody tr th {\n",
       "        vertical-align: top;\n",
       "    }\n",
       "\n",
       "    .dataframe thead th {\n",
       "        text-align: right;\n",
       "    }\n",
       "</style>\n",
       "<table border=\"1\" class=\"dataframe\">\n",
       "  <thead>\n",
       "    <tr style=\"text-align: right;\">\n",
       "      <th></th>\n",
       "      <th>Lo 30</th>\n",
       "      <th>Med 40</th>\n",
       "      <th>Hi 30</th>\n",
       "      <th>Lo 20</th>\n",
       "      <th>Qnt 2</th>\n",
       "      <th>Qnt 3</th>\n",
       "      <th>Qnt 4</th>\n",
       "      <th>Hi 20</th>\n",
       "      <th>Lo 10</th>\n",
       "      <th>Dec 2</th>\n",
       "      <th>Dec 3</th>\n",
       "      <th>Dec 4</th>\n",
       "      <th>Dec 5</th>\n",
       "      <th>Dec 6</th>\n",
       "      <th>Dec 7</th>\n",
       "      <th>Dec 8</th>\n",
       "      <th>Dec 9</th>\n",
       "      <th>Hi 10</th>\n",
       "    </tr>\n",
       "  </thead>\n",
       "  <tbody>\n",
       "    <tr>\n",
       "      <th>192607</th>\n",
       "      <td>-0.43</td>\n",
       "      <td>1.52</td>\n",
       "      <td>2.68</td>\n",
       "      <td>-0.57</td>\n",
       "      <td>0.59</td>\n",
       "      <td>1.60</td>\n",
       "      <td>1.47</td>\n",
       "      <td>3.33</td>\n",
       "      <td>-1.45</td>\n",
       "      <td>0.29</td>\n",
       "      <td>-0.15</td>\n",
       "      <td>1.33</td>\n",
       "      <td>1.24</td>\n",
       "      <td>1.98</td>\n",
       "      <td>1.55</td>\n",
       "      <td>1.38</td>\n",
       "      <td>3.38</td>\n",
       "      <td>3.29</td>\n",
       "    </tr>\n",
       "    <tr>\n",
       "      <th>192608</th>\n",
       "      <td>3.90</td>\n",
       "      <td>3.04</td>\n",
       "      <td>2.09</td>\n",
       "      <td>3.84</td>\n",
       "      <td>3.59</td>\n",
       "      <td>3.71</td>\n",
       "      <td>1.61</td>\n",
       "      <td>2.33</td>\n",
       "      <td>5.12</td>\n",
       "      <td>2.59</td>\n",
       "      <td>4.03</td>\n",
       "      <td>3.15</td>\n",
       "      <td>2.72</td>\n",
       "      <td>4.72</td>\n",
       "      <td>1.60</td>\n",
       "      <td>1.63</td>\n",
       "      <td>0.98</td>\n",
       "      <td>3.70</td>\n",
       "    </tr>\n",
       "    <tr>\n",
       "      <th>192609</th>\n",
       "      <td>-1.08</td>\n",
       "      <td>-0.54</td>\n",
       "      <td>0.16</td>\n",
       "      <td>-0.48</td>\n",
       "      <td>-1.40</td>\n",
       "      <td>0.00</td>\n",
       "      <td>-0.50</td>\n",
       "      <td>-0.09</td>\n",
       "      <td>0.93</td>\n",
       "      <td>-1.87</td>\n",
       "      <td>-2.27</td>\n",
       "      <td>-0.53</td>\n",
       "      <td>0.07</td>\n",
       "      <td>-0.07</td>\n",
       "      <td>-1.64</td>\n",
       "      <td>0.64</td>\n",
       "      <td>-0.86</td>\n",
       "      <td>0.67</td>\n",
       "    </tr>\n",
       "    <tr>\n",
       "      <th>192610</th>\n",
       "      <td>-3.32</td>\n",
       "      <td>-3.52</td>\n",
       "      <td>-3.06</td>\n",
       "      <td>-3.29</td>\n",
       "      <td>-4.10</td>\n",
       "      <td>-2.89</td>\n",
       "      <td>-3.36</td>\n",
       "      <td>-2.95</td>\n",
       "      <td>-4.84</td>\n",
       "      <td>-1.77</td>\n",
       "      <td>-3.36</td>\n",
       "      <td>-4.83</td>\n",
       "      <td>-2.98</td>\n",
       "      <td>-2.80</td>\n",
       "      <td>-3.45</td>\n",
       "      <td>-3.27</td>\n",
       "      <td>-3.47</td>\n",
       "      <td>-2.43</td>\n",
       "    </tr>\n",
       "    <tr>\n",
       "      <th>192611</th>\n",
       "      <td>-0.46</td>\n",
       "      <td>3.82</td>\n",
       "      <td>3.09</td>\n",
       "      <td>-0.55</td>\n",
       "      <td>2.18</td>\n",
       "      <td>3.41</td>\n",
       "      <td>3.39</td>\n",
       "      <td>3.16</td>\n",
       "      <td>-0.78</td>\n",
       "      <td>-0.32</td>\n",
       "      <td>-0.29</td>\n",
       "      <td>4.65</td>\n",
       "      <td>3.24</td>\n",
       "      <td>3.57</td>\n",
       "      <td>3.82</td>\n",
       "      <td>2.95</td>\n",
       "      <td>3.61</td>\n",
       "      <td>2.70</td>\n",
       "    </tr>\n",
       "  </tbody>\n",
       "</table>\n",
       "</div>"
      ],
      "text/plain": [
       "        Lo 30  Med 40  Hi 30  Lo 20  Qnt 2  Qnt 3  Qnt 4  Hi 20  Lo 10  Dec 2  \\\n",
       "192607  -0.43    1.52   2.68  -0.57   0.59   1.60   1.47   3.33  -1.45   0.29   \n",
       "192608   3.90    3.04   2.09   3.84   3.59   3.71   1.61   2.33   5.12   2.59   \n",
       "192609  -1.08   -0.54   0.16  -0.48  -1.40   0.00  -0.50  -0.09   0.93  -1.87   \n",
       "192610  -3.32   -3.52  -3.06  -3.29  -4.10  -2.89  -3.36  -2.95  -4.84  -1.77   \n",
       "192611  -0.46    3.82   3.09  -0.55   2.18   3.41   3.39   3.16  -0.78  -0.32   \n",
       "\n",
       "        Dec 3  Dec 4  Dec 5  Dec 6  Dec 7  Dec 8  Dec 9  Hi 10  \n",
       "192607  -0.15   1.33   1.24   1.98   1.55   1.38   3.38   3.29  \n",
       "192608   4.03   3.15   2.72   4.72   1.60   1.63   0.98   3.70  \n",
       "192609  -2.27  -0.53   0.07  -0.07  -1.64   0.64  -0.86   0.67  \n",
       "192610  -3.36  -4.83  -2.98  -2.80  -3.45  -3.27  -3.47  -2.43  \n",
       "192611  -0.29   4.65   3.24   3.57   3.82   2.95   3.61   2.70  "
      ]
     },
     "execution_count": 21,
     "metadata": {},
     "output_type": "execute_result"
    }
   ],
   "source": [
    "\"\"\"\n",
    "Calculate annualized return, volatility and excess returns on all categories\n",
    "<= 0 --> NA or data is not available\n",
    "Lo 30, Med 40, Hi 30 --> divide the stocks by market cap, lowest 30, middle 40 and highest 30, then equally weighted them\n",
    "Lo 20, Qnt 2-4, Hi 20  --> quintiles: lowest 20, quintile 2 to 4, highest 20\n",
    "Lo 10, Dec 2-9, Hi 10 --> deciles: lowest 10, decile 2-9, highest 10\n",
    "\n",
    "\"\"\"\n",
    "\n",
    "file_path = r'C:\\Users\\ojell\\Desktop\\Oj\\2_Coursera\\InvMgmt_Edhec\\data'\n",
    "portfolio_all = pd.read_csv(file_path + '\\Portfolios_Formed_on_ME_monthly_EW.csv',\n",
    "                        header=0, index_col=0, parse_dates=True)\n",
    "\n",
    "portfolio_all = portfolio_all.drop(columns=['<= 0'])\n",
    "portfolio_all.head()"
   ]
  },
  {
   "cell_type": "code",
   "execution_count": 22,
   "id": "caab98d5",
   "metadata": {},
   "outputs": [
    {
     "data": {
      "text/html": [
       "<div>\n",
       "<style scoped>\n",
       "    .dataframe tbody tr th:only-of-type {\n",
       "        vertical-align: middle;\n",
       "    }\n",
       "\n",
       "    .dataframe tbody tr th {\n",
       "        vertical-align: top;\n",
       "    }\n",
       "\n",
       "    .dataframe thead th {\n",
       "        text-align: right;\n",
       "    }\n",
       "</style>\n",
       "<table border=\"1\" class=\"dataframe\">\n",
       "  <thead>\n",
       "    <tr style=\"text-align: right;\">\n",
       "      <th></th>\n",
       "      <th>SmallCap</th>\n",
       "      <th>MediumCap</th>\n",
       "      <th>LargeCap</th>\n",
       "      <th>Qnt 1</th>\n",
       "      <th>Qnt 2</th>\n",
       "      <th>Qnt 3</th>\n",
       "      <th>Qnt 4</th>\n",
       "      <th>Qnt 5</th>\n",
       "      <th>Dec 1</th>\n",
       "      <th>Dec 2</th>\n",
       "      <th>Dec 3</th>\n",
       "      <th>Dec 4</th>\n",
       "      <th>Dec 5</th>\n",
       "      <th>Dec 6</th>\n",
       "      <th>Dec 7</th>\n",
       "      <th>Dec 8</th>\n",
       "      <th>Dec 9</th>\n",
       "      <th>Dec 10</th>\n",
       "    </tr>\n",
       "  </thead>\n",
       "  <tbody>\n",
       "    <tr>\n",
       "      <th>192607</th>\n",
       "      <td>-0.0043</td>\n",
       "      <td>0.0152</td>\n",
       "      <td>0.0268</td>\n",
       "      <td>-0.0057</td>\n",
       "      <td>0.0059</td>\n",
       "      <td>0.0160</td>\n",
       "      <td>0.0147</td>\n",
       "      <td>0.0333</td>\n",
       "      <td>-0.0145</td>\n",
       "      <td>0.0029</td>\n",
       "      <td>-0.0015</td>\n",
       "      <td>0.0133</td>\n",
       "      <td>0.0124</td>\n",
       "      <td>0.0198</td>\n",
       "      <td>0.0155</td>\n",
       "      <td>0.0138</td>\n",
       "      <td>0.0338</td>\n",
       "      <td>0.0329</td>\n",
       "    </tr>\n",
       "    <tr>\n",
       "      <th>192608</th>\n",
       "      <td>0.0390</td>\n",
       "      <td>0.0304</td>\n",
       "      <td>0.0209</td>\n",
       "      <td>0.0384</td>\n",
       "      <td>0.0359</td>\n",
       "      <td>0.0371</td>\n",
       "      <td>0.0161</td>\n",
       "      <td>0.0233</td>\n",
       "      <td>0.0512</td>\n",
       "      <td>0.0259</td>\n",
       "      <td>0.0403</td>\n",
       "      <td>0.0315</td>\n",
       "      <td>0.0272</td>\n",
       "      <td>0.0472</td>\n",
       "      <td>0.0160</td>\n",
       "      <td>0.0163</td>\n",
       "      <td>0.0098</td>\n",
       "      <td>0.0370</td>\n",
       "    </tr>\n",
       "    <tr>\n",
       "      <th>192609</th>\n",
       "      <td>-0.0108</td>\n",
       "      <td>-0.0054</td>\n",
       "      <td>0.0016</td>\n",
       "      <td>-0.0048</td>\n",
       "      <td>-0.0140</td>\n",
       "      <td>0.0000</td>\n",
       "      <td>-0.0050</td>\n",
       "      <td>-0.0009</td>\n",
       "      <td>0.0093</td>\n",
       "      <td>-0.0187</td>\n",
       "      <td>-0.0227</td>\n",
       "      <td>-0.0053</td>\n",
       "      <td>0.0007</td>\n",
       "      <td>-0.0007</td>\n",
       "      <td>-0.0164</td>\n",
       "      <td>0.0064</td>\n",
       "      <td>-0.0086</td>\n",
       "      <td>0.0067</td>\n",
       "    </tr>\n",
       "    <tr>\n",
       "      <th>192610</th>\n",
       "      <td>-0.0332</td>\n",
       "      <td>-0.0352</td>\n",
       "      <td>-0.0306</td>\n",
       "      <td>-0.0329</td>\n",
       "      <td>-0.0410</td>\n",
       "      <td>-0.0289</td>\n",
       "      <td>-0.0336</td>\n",
       "      <td>-0.0295</td>\n",
       "      <td>-0.0484</td>\n",
       "      <td>-0.0177</td>\n",
       "      <td>-0.0336</td>\n",
       "      <td>-0.0483</td>\n",
       "      <td>-0.0298</td>\n",
       "      <td>-0.0280</td>\n",
       "      <td>-0.0345</td>\n",
       "      <td>-0.0327</td>\n",
       "      <td>-0.0347</td>\n",
       "      <td>-0.0243</td>\n",
       "    </tr>\n",
       "    <tr>\n",
       "      <th>192611</th>\n",
       "      <td>-0.0046</td>\n",
       "      <td>0.0382</td>\n",
       "      <td>0.0309</td>\n",
       "      <td>-0.0055</td>\n",
       "      <td>0.0218</td>\n",
       "      <td>0.0341</td>\n",
       "      <td>0.0339</td>\n",
       "      <td>0.0316</td>\n",
       "      <td>-0.0078</td>\n",
       "      <td>-0.0032</td>\n",
       "      <td>-0.0029</td>\n",
       "      <td>0.0465</td>\n",
       "      <td>0.0324</td>\n",
       "      <td>0.0357</td>\n",
       "      <td>0.0382</td>\n",
       "      <td>0.0295</td>\n",
       "      <td>0.0361</td>\n",
       "      <td>0.0270</td>\n",
       "    </tr>\n",
       "  </tbody>\n",
       "</table>\n",
       "</div>"
      ],
      "text/plain": [
       "        SmallCap  MediumCap  LargeCap   Qnt 1   Qnt 2   Qnt 3   Qnt 4   Qnt 5  \\\n",
       "192607   -0.0043     0.0152    0.0268 -0.0057  0.0059  0.0160  0.0147  0.0333   \n",
       "192608    0.0390     0.0304    0.0209  0.0384  0.0359  0.0371  0.0161  0.0233   \n",
       "192609   -0.0108    -0.0054    0.0016 -0.0048 -0.0140  0.0000 -0.0050 -0.0009   \n",
       "192610   -0.0332    -0.0352   -0.0306 -0.0329 -0.0410 -0.0289 -0.0336 -0.0295   \n",
       "192611   -0.0046     0.0382    0.0309 -0.0055  0.0218  0.0341  0.0339  0.0316   \n",
       "\n",
       "         Dec 1   Dec 2   Dec 3   Dec 4   Dec 5   Dec 6   Dec 7   Dec 8  \\\n",
       "192607 -0.0145  0.0029 -0.0015  0.0133  0.0124  0.0198  0.0155  0.0138   \n",
       "192608  0.0512  0.0259  0.0403  0.0315  0.0272  0.0472  0.0160  0.0163   \n",
       "192609  0.0093 -0.0187 -0.0227 -0.0053  0.0007 -0.0007 -0.0164  0.0064   \n",
       "192610 -0.0484 -0.0177 -0.0336 -0.0483 -0.0298 -0.0280 -0.0345 -0.0327   \n",
       "192611 -0.0078 -0.0032 -0.0029  0.0465  0.0324  0.0357  0.0382  0.0295   \n",
       "\n",
       "         Dec 9  Dec 10  \n",
       "192607  0.0338  0.0329  \n",
       "192608  0.0098  0.0370  \n",
       "192609 -0.0086  0.0067  \n",
       "192610 -0.0347 -0.0243  \n",
       "192611  0.0361  0.0270  "
      ]
     },
     "execution_count": 22,
     "metadata": {},
     "output_type": "execute_result"
    }
   ],
   "source": [
    "portfolio_all.columns = ['SmallCap', 'MediumCap', 'LargeCap',\n",
    "                     'Qnt 1', 'Qnt 2', 'Qnt 3', 'Qnt 4', 'Qnt 5',\n",
    "                     'Dec 1', 'Dec 2', 'Dec 3', 'Dec 4', 'Dec 5', 'Dec 6', 'Dec 7', 'Dec 8', 'Dec 9', 'Dec 10']\n",
    "port_ret_all = portfolio_all / 100\n",
    "port_ret_all.head()"
   ]
  },
  {
   "cell_type": "code",
   "execution_count": 23,
   "id": "59f5c2f3",
   "metadata": {},
   "outputs": [
    {
     "name": "stdout",
     "output_type": "stream",
     "text": [
      "SmallCap     0.144204\n",
      "MediumCap    0.114807\n",
      "LargeCap     0.102293\n",
      "Qnt 1        0.151977\n",
      "Qnt 2        0.119742\n",
      "Qnt 3        0.115613\n",
      "Qnt 4        0.109488\n",
      "Qnt 5        0.098490\n",
      "Dec 1        0.167463\n",
      "Dec 2        0.122493\n",
      "Dec 3        0.121011\n",
      "Dec 4        0.117643\n",
      "Dec 5        0.112702\n",
      "Dec 6        0.117929\n",
      "Dec 7        0.109493\n",
      "Dec 8        0.108793\n",
      "Dec 9        0.103338\n",
      "Dec 10       0.092810\n",
      "dtype: float64 \n",
      "\n",
      " SmallCap     0.315962\n",
      "MediumCap    0.244790\n",
      "LargeCap     0.201462\n",
      "Qnt 1        0.336701\n",
      "Qnt 2        0.274667\n",
      "Qnt 3        0.244160\n",
      "Qnt 4        0.221486\n",
      "Qnt 5        0.195116\n",
      "Dec 1        0.368193\n",
      "Dec 2        0.315841\n",
      "Dec 3        0.283806\n",
      "Dec 4        0.267540\n",
      "Dec 5        0.249848\n",
      "Dec 6        0.240157\n",
      "Dec 7        0.228367\n",
      "Dec 8        0.216948\n",
      "Dec 9        0.206224\n",
      "Dec 10       0.186716\n",
      "dtype: float64\n"
     ]
    }
   ],
   "source": [
    "# Calculate Annualized Return, Annualized Volatility\n",
    "n_mnth = port_ret_all.shape[0]\n",
    "\n",
    "ann_ret_all = (port_ret_all + 1).prod() ** (12/n_mnth) - 1\n",
    "ann_vol_all = port_ret_all.std() * np.sqrt(12)\n",
    "\n",
    "print(ann_ret_all, '\\n\\n', ann_vol_all)"
   ]
  },
  {
   "cell_type": "code",
   "execution_count": 24,
   "id": "90a6ceea",
   "metadata": {},
   "outputs": [
    {
     "data": {
      "text/plain": [
       "SmallCap     0.361450\n",
       "MediumCap    0.346449\n",
       "LargeCap     0.358843\n",
       "Qnt 1        0.362271\n",
       "Qnt 2        0.326730\n",
       "Qnt 3        0.350643\n",
       "Qnt 4        0.358883\n",
       "Qnt 5        0.351023\n",
       "Dec 1        0.373346\n",
       "Dec 2        0.292848\n",
       "Dec 3        0.320680\n",
       "Dec 4        0.327587\n",
       "Dec 5        0.331010\n",
       "Dec 6        0.366129\n",
       "Dec 7        0.348094\n",
       "Dec 8        0.363190\n",
       "Dec 9        0.355621\n",
       "Dec 10       0.336392\n",
       "dtype: float64"
      ]
     },
     "execution_count": 24,
     "metadata": {},
     "output_type": "execute_result"
    }
   ],
   "source": [
    "# Calculate excess return or sharpe ratio\n",
    "\n",
    "rf = 0.03\n",
    "\n",
    "sharpe = (ann_ret_all - rf) / ann_vol_all\n",
    "sharpe"
   ]
  },
  {
   "cell_type": "code",
   "execution_count": null,
   "id": "f9abe6e0",
   "metadata": {},
   "outputs": [],
   "source": []
  }
 ],
 "metadata": {
  "kernelspec": {
   "display_name": "Python 3 (ipykernel)",
   "language": "python",
   "name": "python3"
  },
  "language_info": {
   "codemirror_mode": {
    "name": "ipython",
    "version": 3
   },
   "file_extension": ".py",
   "mimetype": "text/x-python",
   "name": "python",
   "nbconvert_exporter": "python",
   "pygments_lexer": "ipython3",
   "version": "3.9.12"
  }
 },
 "nbformat": 4,
 "nbformat_minor": 5
}
